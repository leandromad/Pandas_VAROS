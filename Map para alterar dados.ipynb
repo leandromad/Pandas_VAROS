{
 "cells": [
  {
   "cell_type": "code",
   "execution_count": 3,
   "id": "45a24715",
   "metadata": {},
   "outputs": [],
   "source": [
    "import pandas as pd\n",
    "from pandas_datareader import data as pdr\n",
    "import yfinance as yf\n",
    "yf.pdr_override()"
   ]
  },
  {
   "cell_type": "code",
   "execution_count": 5,
   "id": "bfc75c7b",
   "metadata": {},
   "outputs": [
    {
     "name": "stdout",
     "output_type": "stream",
     "text": [
      "[*********************100%***********************]  4 of 4 completed\n"
     ]
    },
    {
     "data": {
      "text/html": [
       "<div>\n",
       "<style scoped>\n",
       "    .dataframe tbody tr th:only-of-type {\n",
       "        vertical-align: middle;\n",
       "    }\n",
       "\n",
       "    .dataframe tbody tr th {\n",
       "        vertical-align: top;\n",
       "    }\n",
       "\n",
       "    .dataframe thead th {\n",
       "        text-align: right;\n",
       "    }\n",
       "</style>\n",
       "<table border=\"1\" class=\"dataframe\">\n",
       "  <thead>\n",
       "    <tr style=\"text-align: right;\">\n",
       "      <th></th>\n",
       "      <th>ABEV3.SA</th>\n",
       "      <th>MGLU3.SA</th>\n",
       "      <th>VALE3.SA</th>\n",
       "      <th>WEGE3.SA</th>\n",
       "    </tr>\n",
       "    <tr>\n",
       "      <th>Date</th>\n",
       "      <th></th>\n",
       "      <th></th>\n",
       "      <th></th>\n",
       "      <th></th>\n",
       "    </tr>\n",
       "  </thead>\n",
       "  <tbody>\n",
       "    <tr>\n",
       "      <th>2017-10-02</th>\n",
       "      <td>17.058563</td>\n",
       "      <td>2.334204</td>\n",
       "      <td>22.000368</td>\n",
       "      <td>7.606670</td>\n",
       "    </tr>\n",
       "    <tr>\n",
       "      <th>2017-10-03</th>\n",
       "      <td>17.651907</td>\n",
       "      <td>2.367473</td>\n",
       "      <td>22.538309</td>\n",
       "      <td>7.903502</td>\n",
       "    </tr>\n",
       "    <tr>\n",
       "      <th>2017-10-04</th>\n",
       "      <td>17.470610</td>\n",
       "      <td>2.382759</td>\n",
       "      <td>22.490032</td>\n",
       "      <td>7.939262</td>\n",
       "    </tr>\n",
       "    <tr>\n",
       "      <th>2017-10-05</th>\n",
       "      <td>17.495329</td>\n",
       "      <td>2.349790</td>\n",
       "      <td>22.255545</td>\n",
       "      <td>7.971446</td>\n",
       "    </tr>\n",
       "    <tr>\n",
       "      <th>2017-10-06</th>\n",
       "      <td>17.363476</td>\n",
       "      <td>2.388753</td>\n",
       "      <td>22.165886</td>\n",
       "      <td>7.935687</td>\n",
       "    </tr>\n",
       "    <tr>\n",
       "      <th>...</th>\n",
       "      <td>...</td>\n",
       "      <td>...</td>\n",
       "      <td>...</td>\n",
       "      <td>...</td>\n",
       "    </tr>\n",
       "    <tr>\n",
       "      <th>2023-01-09</th>\n",
       "      <td>14.400000</td>\n",
       "      <td>2.830000</td>\n",
       "      <td>92.440002</td>\n",
       "      <td>37.919998</td>\n",
       "    </tr>\n",
       "    <tr>\n",
       "      <th>2023-01-10</th>\n",
       "      <td>14.540000</td>\n",
       "      <td>3.050000</td>\n",
       "      <td>93.580002</td>\n",
       "      <td>37.549999</td>\n",
       "    </tr>\n",
       "    <tr>\n",
       "      <th>2023-01-11</th>\n",
       "      <td>14.290000</td>\n",
       "      <td>3.030000</td>\n",
       "      <td>93.250000</td>\n",
       "      <td>38.599998</td>\n",
       "    </tr>\n",
       "    <tr>\n",
       "      <th>2023-01-12</th>\n",
       "      <td>14.100000</td>\n",
       "      <td>3.190000</td>\n",
       "      <td>93.739998</td>\n",
       "      <td>38.509998</td>\n",
       "    </tr>\n",
       "    <tr>\n",
       "      <th>2023-01-13</th>\n",
       "      <td>13.880000</td>\n",
       "      <td>3.430000</td>\n",
       "      <td>93.820000</td>\n",
       "      <td>38.970001</td>\n",
       "    </tr>\n",
       "  </tbody>\n",
       "</table>\n",
       "<p>1314 rows × 4 columns</p>\n",
       "</div>"
      ],
      "text/plain": [
       "             ABEV3.SA  MGLU3.SA   VALE3.SA   WEGE3.SA\n",
       "Date                                                 \n",
       "2017-10-02  17.058563  2.334204  22.000368   7.606670\n",
       "2017-10-03  17.651907  2.367473  22.538309   7.903502\n",
       "2017-10-04  17.470610  2.382759  22.490032   7.939262\n",
       "2017-10-05  17.495329  2.349790  22.255545   7.971446\n",
       "2017-10-06  17.363476  2.388753  22.165886   7.935687\n",
       "...               ...       ...        ...        ...\n",
       "2023-01-09  14.400000  2.830000  92.440002  37.919998\n",
       "2023-01-10  14.540000  3.050000  93.580002  37.549999\n",
       "2023-01-11  14.290000  3.030000  93.250000  38.599998\n",
       "2023-01-12  14.100000  3.190000  93.739998  38.509998\n",
       "2023-01-13  13.880000  3.430000  93.820000  38.970001\n",
       "\n",
       "[1314 rows x 4 columns]"
      ]
     },
     "execution_count": 5,
     "metadata": {},
     "output_type": "execute_result"
    }
   ],
   "source": [
    "df = pdr.get_data_yahoo(['ABEV3.SA','MGLU3.SA','WEGE3.SA','VALE3.SA'], start = '2017-10-02')['Adj Close']\n",
    "df"
   ]
  },
  {
   "cell_type": "code",
   "execution_count": 7,
   "id": "d4e71b45",
   "metadata": {},
   "outputs": [
    {
     "data": {
      "text/plain": [
       "ABEV3.SA    0.000028\n",
       "MGLU3.SA    0.001056\n",
       "VALE3.SA    0.001431\n",
       "WEGE3.SA    0.001532\n",
       "dtype: float64"
      ]
     },
     "execution_count": 7,
     "metadata": {},
     "output_type": "execute_result"
    }
   ],
   "source": [
    "media_retornos_diarios = df.pct_change().dropna().mean()\n",
    "\n",
    "media_retornos_diarios"
   ]
  },
  {
   "cell_type": "code",
   "execution_count": 14,
   "id": "fa051593",
   "metadata": {},
   "outputs": [
    {
     "data": {
      "text/plain": [
       "ABEV3.SA    0.006981\n",
       "MGLU3.SA    0.304778\n",
       "VALE3.SA    0.433997\n",
       "WEGE3.SA    0.470620\n",
       "dtype: float64"
      ]
     },
     "execution_count": 14,
     "metadata": {},
     "output_type": "execute_result"
    }
   ],
   "source": [
    "# Usando map para transformar dados\n",
    "\n",
    "dados_anuais = media_retornos_diarios.map(lambda x: (1 + x) ** 252 -1)\n",
    "dados_anuais"
   ]
  },
  {
   "cell_type": "code",
   "execution_count": 15,
   "id": "62f9c11e",
   "metadata": {},
   "outputs": [
    {
     "data": {
      "text/html": [
       "<div>\n",
       "<style scoped>\n",
       "    .dataframe tbody tr th:only-of-type {\n",
       "        vertical-align: middle;\n",
       "    }\n",
       "\n",
       "    .dataframe tbody tr th {\n",
       "        vertical-align: top;\n",
       "    }\n",
       "\n",
       "    .dataframe thead th {\n",
       "        text-align: right;\n",
       "    }\n",
       "</style>\n",
       "<table border=\"1\" class=\"dataframe\">\n",
       "  <thead>\n",
       "    <tr style=\"text-align: right;\">\n",
       "      <th></th>\n",
       "      <th>0</th>\n",
       "    </tr>\n",
       "  </thead>\n",
       "  <tbody>\n",
       "    <tr>\n",
       "      <th>ABEV3.SA</th>\n",
       "      <td>0.006981</td>\n",
       "    </tr>\n",
       "    <tr>\n",
       "      <th>MGLU3.SA</th>\n",
       "      <td>0.304778</td>\n",
       "    </tr>\n",
       "    <tr>\n",
       "      <th>VALE3.SA</th>\n",
       "      <td>0.433997</td>\n",
       "    </tr>\n",
       "    <tr>\n",
       "      <th>WEGE3.SA</th>\n",
       "      <td>0.470620</td>\n",
       "    </tr>\n",
       "  </tbody>\n",
       "</table>\n",
       "</div>"
      ],
      "text/plain": [
       "                 0\n",
       "ABEV3.SA  0.006981\n",
       "MGLU3.SA  0.304778\n",
       "VALE3.SA  0.433997\n",
       "WEGE3.SA  0.470620"
      ]
     },
     "execution_count": 15,
     "metadata": {},
     "output_type": "execute_result"
    }
   ],
   "source": [
    "dados_anuais = dados_anuais.to_frame()\n",
    "dados_anuais"
   ]
  },
  {
   "cell_type": "code",
   "execution_count": 13,
   "id": "b4f9a8ff",
   "metadata": {},
   "outputs": [],
   "source": [
    "dados_anuais = dados_anuais.reset_index()\n",
    "\n",
    "dados_anuais.columns = ['nome_empresas', 'r']"
   ]
  },
  {
   "cell_type": "code",
   "execution_count": null,
   "id": "8aa8d1d2",
   "metadata": {},
   "outputs": [],
   "source": []
  }
 ],
 "metadata": {
  "kernelspec": {
   "display_name": "Python 3 (ipykernel)",
   "language": "python",
   "name": "python3"
  },
  "language_info": {
   "codemirror_mode": {
    "name": "ipython",
    "version": 3
   },
   "file_extension": ".py",
   "mimetype": "text/x-python",
   "name": "python",
   "nbconvert_exporter": "python",
   "pygments_lexer": "ipython3",
   "version": "3.9.13"
  }
 },
 "nbformat": 4,
 "nbformat_minor": 5
}
