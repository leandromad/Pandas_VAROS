{
 "cells": [
  {
   "cell_type": "code",
   "execution_count": 2,
   "id": "a7ecb121",
   "metadata": {},
   "outputs": [],
   "source": [
    "import pandas as pd\n",
    "from pandas_datareader import data as pdr\n",
    "import yfinance as yf\n",
    "yf.pdr_override()"
   ]
  },
  {
   "cell_type": "code",
   "execution_count": 3,
   "id": "9285588a",
   "metadata": {},
   "outputs": [
    {
     "name": "stdout",
     "output_type": "stream",
     "text": [
      "[*********************100%***********************]  1 of 1 completed\n"
     ]
    },
    {
     "data": {
      "text/plain": [
       "Date\n",
       "2000-01-03     0.123840\n",
       "2000-01-04     0.119495\n",
       "2000-01-05     0.119495\n",
       "2000-01-06     0.108631\n",
       "2000-01-07     0.108631\n",
       "                ...    \n",
       "2023-01-16    37.689999\n",
       "2023-01-17    38.310001\n",
       "2023-01-18    37.990002\n",
       "2023-01-19    37.910000\n",
       "2023-01-20    37.520000\n",
       "Name: Adj Close, Length: 5793, dtype: float64"
      ]
     },
     "execution_count": 3,
     "metadata": {},
     "output_type": "execute_result"
    }
   ],
   "source": [
    "df = pdr.get_data_yahoo('WEGE3.SA')['Adj Close']\n",
    "df"
   ]
  },
  {
   "cell_type": "code",
   "execution_count": 4,
   "id": "b0352b46",
   "metadata": {},
   "outputs": [
    {
     "data": {
      "text/plain": [
       "Date\n",
       "2000-01-31     0.119495\n",
       "2000-02-29     0.108631\n",
       "2000-03-31     0.108631\n",
       "2000-04-30     0.108631\n",
       "2000-05-31     0.103200\n",
       "                ...    \n",
       "2022-09-30    32.093353\n",
       "2022-10-31    40.221539\n",
       "2022-11-30    38.943398\n",
       "2022-12-31    38.509998\n",
       "2023-01-31    37.520000\n",
       "Freq: M, Name: Adj Close, Length: 277, dtype: float64"
      ]
     },
     "execution_count": 4,
     "metadata": {},
     "output_type": "execute_result"
    }
   ],
   "source": [
    "df_mensal = df.resample('M').last()\n",
    "df_mensal"
   ]
  },
  {
   "cell_type": "code",
   "execution_count": 5,
   "id": "f0d2126d",
   "metadata": {},
   "outputs": [
    {
     "data": {
      "text/plain": [
       "Date\n",
       "2000-12-31     0.128186\n",
       "2001-12-31     0.211832\n",
       "2002-12-31     0.256371\n",
       "2003-12-31     0.543159\n",
       "2004-12-31     0.831034\n",
       "2005-12-31     0.814740\n",
       "2006-12-31     1.412216\n",
       "2007-12-31     2.737527\n",
       "2008-12-31     1.386047\n",
       "2009-12-31     2.095739\n",
       "2010-12-31     2.530779\n",
       "2011-12-31     2.245814\n",
       "2012-12-31     3.309526\n",
       "2013-12-31     3.917138\n",
       "2014-12-31     5.110186\n",
       "2015-12-31     5.127314\n",
       "2016-12-31     5.452233\n",
       "2017-12-31     8.643222\n",
       "2018-12-31     8.320035\n",
       "2019-12-31    16.698481\n",
       "2020-12-31    36.783794\n",
       "2021-12-31    32.402042\n",
       "2022-12-31    38.509998\n",
       "2023-12-31    37.520000\n",
       "Freq: A-DEC, Name: Adj Close, dtype: float64"
      ]
     },
     "execution_count": 5,
     "metadata": {},
     "output_type": "execute_result"
    }
   ],
   "source": [
    "df_anual = df.resample('Y').last()\n",
    "df_anual"
   ]
  },
  {
   "cell_type": "code",
   "execution_count": 9,
   "id": "4d007e6d",
   "metadata": {},
   "outputs": [
    {
     "data": {
      "text/plain": [
       "Date\n",
       "2000-12-31           NaN\n",
       "2001-12-31     65.254107\n",
       "2002-12-31     21.025736\n",
       "2003-12-31    111.864203\n",
       "2004-12-31     53.000137\n",
       "2005-12-31     -1.960746\n",
       "2006-12-31     73.333327\n",
       "2007-12-31     93.846179\n",
       "2008-12-31    -49.368635\n",
       "2009-12-31     51.202588\n",
       "2010-12-31     20.758309\n",
       "2011-12-31    -11.259973\n",
       "2012-12-31     47.364222\n",
       "2013-12-31     18.359467\n",
       "2014-12-31     30.457142\n",
       "2015-12-31      0.335164\n",
       "2016-12-31      6.337027\n",
       "2017-12-31     58.526279\n",
       "2018-12-31     -3.739194\n",
       "2019-12-31    100.702048\n",
       "2020-12-31    120.282284\n",
       "2021-12-31    -11.912181\n",
       "2022-12-31     18.850528\n",
       "2023-12-31     -2.570755\n",
       "Freq: A-DEC, Name: Adj Close, dtype: float64"
      ]
     },
     "execution_count": 9,
     "metadata": {},
     "output_type": "execute_result"
    }
   ],
   "source": [
    "df_anual.pct_change()*100"
   ]
  },
  {
   "cell_type": "code",
   "execution_count": 10,
   "id": "04575b63",
   "metadata": {},
   "outputs": [
    {
     "data": {
      "text/plain": [
       "Date\n",
       "2000-01-09     0.108631\n",
       "2000-01-16     0.119495\n",
       "2000-01-23     0.114063\n",
       "2000-01-30     0.121668\n",
       "2000-02-06     0.121668\n",
       "                ...    \n",
       "2022-12-25    38.500000\n",
       "2023-01-01    38.509998\n",
       "2023-01-08    38.029999\n",
       "2023-01-15    38.970001\n",
       "2023-01-22    37.520000\n",
       "Freq: W-SUN, Name: Adj Close, Length: 1203, dtype: float64"
      ]
     },
     "execution_count": 10,
     "metadata": {},
     "output_type": "execute_result"
    }
   ],
   "source": [
    "df_semanal = df.resample('w').last()\n",
    "df_semanal"
   ]
  },
  {
   "cell_type": "markdown",
   "id": "5eff1063",
   "metadata": {},
   "source": [
    "# Exercícios\n",
    "- Exercício 78: Puxe os dados de cotação ajustada da VALE3.SA e:\n",
    "\n",
    "    - Transforme em cotações mensais\n",
    "    - Transforme em cotações semanais\n",
    "    - Transforme em cotações anuais\n",
    "    - Transforme em cotações de 30 minutos."
   ]
  },
  {
   "cell_type": "code",
   "execution_count": 17,
   "id": "529674a4",
   "metadata": {},
   "outputs": [
    {
     "name": "stdout",
     "output_type": "stream",
     "text": [
      "[*********************100%***********************]  1 of 1 completed\n"
     ]
    },
    {
     "data": {
      "text/plain": [
       "Date\n",
       "2000-01-31     1.944803\n",
       "2000-02-29     1.653083\n",
       "2000-03-31     1.620669\n",
       "2000-04-30     1.620669\n",
       "2000-05-31     1.694410\n",
       "                ...    \n",
       "2022-09-30    71.795647\n",
       "2022-10-31    66.902298\n",
       "2022-11-30    85.419281\n",
       "2022-12-31    88.879997\n",
       "2023-01-31    94.300003\n",
       "Freq: M, Name: Adj Close, Length: 277, dtype: float64"
      ]
     },
     "metadata": {},
     "output_type": "display_data"
    },
    {
     "data": {
      "text/plain": [
       "Date\n",
       "2000-01-09     1.721961\n",
       "2000-01-16     1.985320\n",
       "2000-01-23     1.904286\n",
       "2000-01-30     1.944803\n",
       "2000-02-06     1.892131\n",
       "                ...    \n",
       "2022-12-25    86.320000\n",
       "2023-01-01    88.879997\n",
       "2023-01-08    92.339996\n",
       "2023-01-15    93.820000\n",
       "2023-01-22    94.300003\n",
       "Freq: W-SUN, Name: Adj Close, Length: 1203, dtype: float64"
      ]
     },
     "metadata": {},
     "output_type": "display_data"
    },
    {
     "data": {
      "text/plain": [
       "Date\n",
       "2000-12-31     1.884028\n",
       "2001-12-31     2.106869\n",
       "2002-12-31     4.169171\n",
       "2003-12-31     6.867585\n",
       "2004-12-31     9.177040\n",
       "2005-12-31    11.608047\n",
       "2006-12-31    15.485496\n",
       "2007-12-31    28.836567\n",
       "2008-12-31    13.635164\n",
       "2009-12-31    25.085958\n",
       "2010-12-31    28.397816\n",
       "2011-12-31    21.358028\n",
       "2012-12-31    24.220341\n",
       "2013-12-31    21.073450\n",
       "2014-12-31    13.793667\n",
       "2015-12-31     8.645445\n",
       "2016-12-31    17.138868\n",
       "2017-12-31    28.062572\n",
       "2018-12-31    36.988838\n",
       "2019-12-31    39.681309\n",
       "2020-12-31    67.827217\n",
       "2021-12-31    71.132271\n",
       "2022-12-31    88.879997\n",
       "2023-12-31    94.300003\n",
       "Freq: A-DEC, Name: Adj Close, dtype: float64"
      ]
     },
     "metadata": {},
     "output_type": "display_data"
    },
    {
     "data": {
      "text/plain": [
       "Date\n",
       "2000-01-03 00:00:00     1.701703\n",
       "2000-01-03 00:30:00          NaN\n",
       "2000-01-03 01:00:00          NaN\n",
       "2000-01-03 01:30:00          NaN\n",
       "2000-01-03 02:00:00          NaN\n",
       "                         ...    \n",
       "2023-01-19 22:00:00          NaN\n",
       "2023-01-19 22:30:00          NaN\n",
       "2023-01-19 23:00:00          NaN\n",
       "2023-01-19 23:30:00          NaN\n",
       "2023-01-20 00:00:00    94.300003\n",
       "Freq: 30T, Name: Adj Close, Length: 404065, dtype: float64"
      ]
     },
     "metadata": {},
     "output_type": "display_data"
    }
   ],
   "source": [
    "df = pdr.get_data_yahoo('VALE3.SA')['Adj Close']\n",
    "df_mensal = df.resample('M').last()\n",
    "display(df_mensal)\n",
    "\n",
    "df_semanal = df.resample('W').last()\n",
    "display(df_semanal)\n",
    "\n",
    "df_anual = df.resample('Y').last()\n",
    "display(df_anual)\n",
    "\n",
    "df_30min = df.resample(\"30min\").last()\n",
    "display(df_30min)\n",
    "\n"
   ]
  },
  {
   "cell_type": "code",
   "execution_count": null,
   "id": "4f49142c",
   "metadata": {},
   "outputs": [],
   "source": []
  }
 ],
 "metadata": {
  "kernelspec": {
   "display_name": "Python 3 (ipykernel)",
   "language": "python",
   "name": "python3"
  },
  "language_info": {
   "codemirror_mode": {
    "name": "ipython",
    "version": 3
   },
   "file_extension": ".py",
   "mimetype": "text/x-python",
   "name": "python",
   "nbconvert_exporter": "python",
   "pygments_lexer": "ipython3",
   "version": "3.9.13"
  }
 },
 "nbformat": 4,
 "nbformat_minor": 5
}
