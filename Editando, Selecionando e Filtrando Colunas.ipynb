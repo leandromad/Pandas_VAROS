{
 "cells": [
  {
   "cell_type": "code",
   "execution_count": 1,
   "id": "881b91c4",
   "metadata": {},
   "outputs": [],
   "source": [
    "import pandas as pd"
   ]
  },
  {
   "cell_type": "code",
   "execution_count": 16,
   "id": "64a95af6",
   "metadata": {},
   "outputs": [
    {
     "data": {
      "text/html": [
       "<div>\n",
       "<style scoped>\n",
       "    .dataframe tbody tr th:only-of-type {\n",
       "        vertical-align: middle;\n",
       "    }\n",
       "\n",
       "    .dataframe tbody tr th {\n",
       "        vertical-align: top;\n",
       "    }\n",
       "\n",
       "    .dataframe thead th {\n",
       "        text-align: right;\n",
       "    }\n",
       "</style>\n",
       "<table border=\"1\" class=\"dataframe\">\n",
       "  <thead>\n",
       "    <tr style=\"text-align: right;\">\n",
       "      <th></th>\n",
       "      <th>moeda</th>\n",
       "      <th>price</th>\n",
       "      <th>data</th>\n",
       "    </tr>\n",
       "  </thead>\n",
       "  <tbody>\n",
       "    <tr>\n",
       "      <th>0</th>\n",
       "      <td>dolar/real</td>\n",
       "      <td>5.24</td>\n",
       "      <td>2015-01-05</td>\n",
       "    </tr>\n",
       "    <tr>\n",
       "      <th>1</th>\n",
       "      <td>libra/real</td>\n",
       "      <td>4.15</td>\n",
       "      <td>2015-01-05</td>\n",
       "    </tr>\n",
       "    <tr>\n",
       "      <th>2</th>\n",
       "      <td>dolar/real</td>\n",
       "      <td>5.26</td>\n",
       "      <td>2015-01-06</td>\n",
       "    </tr>\n",
       "    <tr>\n",
       "      <th>3</th>\n",
       "      <td>libra/real</td>\n",
       "      <td>4.23</td>\n",
       "      <td>2015-01-06</td>\n",
       "    </tr>\n",
       "  </tbody>\n",
       "</table>\n",
       "</div>"
      ],
      "text/plain": [
       "        moeda  price       data\n",
       "0  dolar/real   5.24 2015-01-05\n",
       "1  libra/real   4.15 2015-01-05\n",
       "2  dolar/real   5.26 2015-01-06\n",
       "3  libra/real   4.23 2015-01-06"
      ]
     },
     "execution_count": 16,
     "metadata": {},
     "output_type": "execute_result"
    }
   ],
   "source": [
    "df_cambio = pd.DataFrame({\n",
    "    'moeda': ['dolar/real','libra/real'] * 2,\n",
    "    'price': [5.24,4.15,5.26,4.23],\n",
    "    'data': sorted(list(pd.date_range('1/5/2015', periods = 2)) * 2)\n",
    "})\n",
    "\n",
    "df_cambio"
   ]
  },
  {
   "cell_type": "code",
   "execution_count": 17,
   "id": "7c7267a7",
   "metadata": {},
   "outputs": [
    {
     "data": {
      "text/html": [
       "<div>\n",
       "<style scoped>\n",
       "    .dataframe tbody tr th:only-of-type {\n",
       "        vertical-align: middle;\n",
       "    }\n",
       "\n",
       "    .dataframe tbody tr th {\n",
       "        vertical-align: top;\n",
       "    }\n",
       "\n",
       "    .dataframe thead th {\n",
       "        text-align: right;\n",
       "    }\n",
       "</style>\n",
       "<table border=\"1\" class=\"dataframe\">\n",
       "  <thead>\n",
       "    <tr style=\"text-align: right;\">\n",
       "      <th></th>\n",
       "      <th>moeda</th>\n",
       "      <th>cotacao</th>\n",
       "      <th>data</th>\n",
       "    </tr>\n",
       "  </thead>\n",
       "  <tbody>\n",
       "    <tr>\n",
       "      <th>0</th>\n",
       "      <td>dolar/real</td>\n",
       "      <td>5.24</td>\n",
       "      <td>2015-01-05</td>\n",
       "    </tr>\n",
       "    <tr>\n",
       "      <th>1</th>\n",
       "      <td>libra/real</td>\n",
       "      <td>4.15</td>\n",
       "      <td>2015-01-05</td>\n",
       "    </tr>\n",
       "    <tr>\n",
       "      <th>2</th>\n",
       "      <td>dolar/real</td>\n",
       "      <td>5.26</td>\n",
       "      <td>2015-01-06</td>\n",
       "    </tr>\n",
       "    <tr>\n",
       "      <th>3</th>\n",
       "      <td>libra/real</td>\n",
       "      <td>4.23</td>\n",
       "      <td>2015-01-06</td>\n",
       "    </tr>\n",
       "  </tbody>\n",
       "</table>\n",
       "</div>"
      ],
      "text/plain": [
       "        moeda  cotacao       data\n",
       "0  dolar/real     5.24 2015-01-05\n",
       "1  libra/real     4.15 2015-01-05\n",
       "2  dolar/real     5.26 2015-01-06\n",
       "3  libra/real     4.23 2015-01-06"
      ]
     },
     "execution_count": 17,
     "metadata": {},
     "output_type": "execute_result"
    }
   ],
   "source": [
    "# Como trocar o nome das colunas\n",
    "\n",
    "df_cambio.columns\n",
    "\n",
    "df_cambio.columns = ['moeda','cotacao','data']\n",
    "\n",
    "df_cambio"
   ]
  },
  {
   "cell_type": "code",
   "execution_count": 18,
   "id": "9dbd6379",
   "metadata": {},
   "outputs": [
    {
     "data": {
      "text/plain": [
       "0    5.24\n",
       "1    4.15\n",
       "2    5.26\n",
       "3    4.23\n",
       "Name: cotacao, dtype: float64"
      ]
     },
     "execution_count": 18,
     "metadata": {},
     "output_type": "execute_result"
    }
   ],
   "source": [
    "# Como selecionar colunas\n",
    "\n",
    "cotacao = df_cambio['cotacao'] # te devolve uma serie\n",
    "\n",
    "cotacao"
   ]
  },
  {
   "cell_type": "code",
   "execution_count": 19,
   "id": "a7d3bcf6",
   "metadata": {},
   "outputs": [
    {
     "data": {
      "text/plain": [
       "0    5.24\n",
       "1    4.15\n",
       "2    5.26\n",
       "3    4.23\n",
       "Name: cotacao, dtype: float64"
      ]
     },
     "execution_count": 19,
     "metadata": {},
     "output_type": "execute_result"
    }
   ],
   "source": [
    "df_cambio.cotacao # Pode selecionar colunas assim também"
   ]
  },
  {
   "cell_type": "code",
   "execution_count": 20,
   "id": "47285838",
   "metadata": {},
   "outputs": [
    {
     "data": {
      "text/html": [
       "<div>\n",
       "<style scoped>\n",
       "    .dataframe tbody tr th:only-of-type {\n",
       "        vertical-align: middle;\n",
       "    }\n",
       "\n",
       "    .dataframe tbody tr th {\n",
       "        vertical-align: top;\n",
       "    }\n",
       "\n",
       "    .dataframe thead th {\n",
       "        text-align: right;\n",
       "    }\n",
       "</style>\n",
       "<table border=\"1\" class=\"dataframe\">\n",
       "  <thead>\n",
       "    <tr style=\"text-align: right;\">\n",
       "      <th></th>\n",
       "      <th>cotacao</th>\n",
       "      <th>data</th>\n",
       "    </tr>\n",
       "  </thead>\n",
       "  <tbody>\n",
       "    <tr>\n",
       "      <th>0</th>\n",
       "      <td>5.24</td>\n",
       "      <td>2015-01-05</td>\n",
       "    </tr>\n",
       "    <tr>\n",
       "      <th>1</th>\n",
       "      <td>4.15</td>\n",
       "      <td>2015-01-05</td>\n",
       "    </tr>\n",
       "    <tr>\n",
       "      <th>2</th>\n",
       "      <td>5.26</td>\n",
       "      <td>2015-01-06</td>\n",
       "    </tr>\n",
       "    <tr>\n",
       "      <th>3</th>\n",
       "      <td>4.23</td>\n",
       "      <td>2015-01-06</td>\n",
       "    </tr>\n",
       "  </tbody>\n",
       "</table>\n",
       "</div>"
      ],
      "text/plain": [
       "   cotacao       data\n",
       "0     5.24 2015-01-05\n",
       "1     4.15 2015-01-05\n",
       "2     5.26 2015-01-06\n",
       "3     4.23 2015-01-06"
      ]
     },
     "execution_count": 20,
     "metadata": {},
     "output_type": "execute_result"
    }
   ],
   "source": [
    "#2 colunas\n",
    "\n",
    "cotacao_e_data = df_cambio[['cotacao','data']] # Listra dentro da lista\n",
    "\n",
    "cotacao_e_data"
   ]
  },
  {
   "cell_type": "code",
   "execution_count": 21,
   "id": "95fafa28",
   "metadata": {},
   "outputs": [
    {
     "data": {
      "text/plain": [
       "data\n",
       "2015-01-05    5.24\n",
       "2015-01-05    4.15\n",
       "2015-01-06    5.26\n",
       "2015-01-06    4.23\n",
       "Name: cotacao, dtype: float64"
      ]
     },
     "execution_count": 21,
     "metadata": {},
     "output_type": "execute_result"
    }
   ],
   "source": [
    "# Vantagem da data como índice\n",
    "\n",
    "df_cambio = df_cambio.set_index('data')\n",
    "\n",
    "cotacao = df_cambio['cotacao']\n",
    "\n",
    "cotacao"
   ]
  },
  {
   "cell_type": "code",
   "execution_count": 22,
   "id": "5d070983",
   "metadata": {},
   "outputs": [
    {
     "data": {
      "text/html": [
       "<div>\n",
       "<style scoped>\n",
       "    .dataframe tbody tr th:only-of-type {\n",
       "        vertical-align: middle;\n",
       "    }\n",
       "\n",
       "    .dataframe tbody tr th {\n",
       "        vertical-align: top;\n",
       "    }\n",
       "\n",
       "    .dataframe thead th {\n",
       "        text-align: right;\n",
       "    }\n",
       "</style>\n",
       "<table border=\"1\" class=\"dataframe\">\n",
       "  <thead>\n",
       "    <tr style=\"text-align: right;\">\n",
       "      <th></th>\n",
       "      <th>moeda</th>\n",
       "      <th>cotacao</th>\n",
       "    </tr>\n",
       "    <tr>\n",
       "      <th>data</th>\n",
       "      <th></th>\n",
       "      <th></th>\n",
       "    </tr>\n",
       "  </thead>\n",
       "  <tbody>\n",
       "    <tr>\n",
       "      <th>2015-01-05</th>\n",
       "      <td>libra/real</td>\n",
       "      <td>4.15</td>\n",
       "    </tr>\n",
       "    <tr>\n",
       "      <th>2015-01-06</th>\n",
       "      <td>libra/real</td>\n",
       "      <td>4.23</td>\n",
       "    </tr>\n",
       "  </tbody>\n",
       "</table>\n",
       "</div>"
      ],
      "text/plain": [
       "                 moeda  cotacao\n",
       "data                           \n",
       "2015-01-05  libra/real     4.15\n",
       "2015-01-06  libra/real     4.23"
      ]
     },
     "execution_count": 22,
     "metadata": {},
     "output_type": "execute_result"
    }
   ],
   "source": [
    "# Selecionando colunas por condições\n",
    "\n",
    "cambio_menor_que_5 = df_cambio[df_cambio['cotacao'] < 5]\n",
    "\n",
    "cambio_menor_que_5"
   ]
  },
  {
   "cell_type": "code",
   "execution_count": 24,
   "id": "fc0437c0",
   "metadata": {},
   "outputs": [
    {
     "data": {
      "text/html": [
       "<div>\n",
       "<style scoped>\n",
       "    .dataframe tbody tr th:only-of-type {\n",
       "        vertical-align: middle;\n",
       "    }\n",
       "\n",
       "    .dataframe tbody tr th {\n",
       "        vertical-align: top;\n",
       "    }\n",
       "\n",
       "    .dataframe thead th {\n",
       "        text-align: right;\n",
       "    }\n",
       "</style>\n",
       "<table border=\"1\" class=\"dataframe\">\n",
       "  <thead>\n",
       "    <tr style=\"text-align: right;\">\n",
       "      <th></th>\n",
       "      <th>moeda</th>\n",
       "      <th>cotacao</th>\n",
       "    </tr>\n",
       "    <tr>\n",
       "      <th>data</th>\n",
       "      <th></th>\n",
       "      <th></th>\n",
       "    </tr>\n",
       "  </thead>\n",
       "  <tbody>\n",
       "    <tr>\n",
       "      <th>2015-01-05</th>\n",
       "      <td>dolar/real</td>\n",
       "      <td>5.24</td>\n",
       "    </tr>\n",
       "    <tr>\n",
       "      <th>2015-01-06</th>\n",
       "      <td>dolar/real</td>\n",
       "      <td>5.26</td>\n",
       "    </tr>\n",
       "  </tbody>\n",
       "</table>\n",
       "</div>"
      ],
      "text/plain": [
       "                 moeda  cotacao\n",
       "data                           \n",
       "2015-01-05  dolar/real     5.24\n",
       "2015-01-06  dolar/real     5.26"
      ]
     },
     "execution_count": 24,
     "metadata": {},
     "output_type": "execute_result"
    }
   ],
   "source": [
    "# selecionando o cambio\n",
    "\n",
    "cambio_dolar = df_cambio[df_cambio['moeda'] == 'dolar/real']\n",
    "\n",
    "cambio_dolar"
   ]
  },
  {
   "cell_type": "code",
   "execution_count": 30,
   "id": "21e83830",
   "metadata": {},
   "outputs": [
    {
     "data": {
      "text/html": [
       "<div>\n",
       "<style scoped>\n",
       "    .dataframe tbody tr th:only-of-type {\n",
       "        vertical-align: middle;\n",
       "    }\n",
       "\n",
       "    .dataframe tbody tr th {\n",
       "        vertical-align: top;\n",
       "    }\n",
       "\n",
       "    .dataframe thead th {\n",
       "        text-align: right;\n",
       "    }\n",
       "</style>\n",
       "<table border=\"1\" class=\"dataframe\">\n",
       "  <thead>\n",
       "    <tr style=\"text-align: right;\">\n",
       "      <th></th>\n",
       "      <th>moeda</th>\n",
       "      <th>cotacao</th>\n",
       "    </tr>\n",
       "    <tr>\n",
       "      <th>data</th>\n",
       "      <th></th>\n",
       "      <th></th>\n",
       "    </tr>\n",
       "  </thead>\n",
       "  <tbody>\n",
       "    <tr>\n",
       "      <th>2015-01-06</th>\n",
       "      <td>dolar/real</td>\n",
       "      <td>5.26</td>\n",
       "    </tr>\n",
       "  </tbody>\n",
       "</table>\n",
       "</div>"
      ],
      "text/plain": [
       "                 moeda  cotacao\n",
       "data                           \n",
       "2015-01-06  dolar/real     5.26"
      ]
     },
     "execution_count": 30,
     "metadata": {},
     "output_type": "execute_result"
    }
   ],
   "source": [
    "# Selecionando duas condições ao mesmo tempo\n",
    "\n",
    "#dolar e maior que 5.25\n",
    "\n",
    "cambio_dolar_e_maior_que_525 = df_cambio[(df_cambio['moeda'] == 'dolar/real') & (df_cambio['cotacao'] > 5.25)]\n",
    "cambio_dolar_e_maior_que_525\n"
   ]
  },
  {
   "cell_type": "code",
   "execution_count": 31,
   "id": "19397785",
   "metadata": {},
   "outputs": [
    {
     "data": {
      "text/html": [
       "<div>\n",
       "<style scoped>\n",
       "    .dataframe tbody tr th:only-of-type {\n",
       "        vertical-align: middle;\n",
       "    }\n",
       "\n",
       "    .dataframe tbody tr th {\n",
       "        vertical-align: top;\n",
       "    }\n",
       "\n",
       "    .dataframe thead th {\n",
       "        text-align: right;\n",
       "    }\n",
       "</style>\n",
       "<table border=\"1\" class=\"dataframe\">\n",
       "  <thead>\n",
       "    <tr style=\"text-align: right;\">\n",
       "      <th></th>\n",
       "      <th>moeda</th>\n",
       "      <th>cotacao</th>\n",
       "    </tr>\n",
       "    <tr>\n",
       "      <th>data</th>\n",
       "      <th></th>\n",
       "      <th></th>\n",
       "    </tr>\n",
       "  </thead>\n",
       "  <tbody>\n",
       "    <tr>\n",
       "      <th>2015-01-05</th>\n",
       "      <td>libra/real</td>\n",
       "      <td>4.15</td>\n",
       "    </tr>\n",
       "    <tr>\n",
       "      <th>2015-01-06</th>\n",
       "      <td>dolar/real</td>\n",
       "      <td>5.26</td>\n",
       "    </tr>\n",
       "    <tr>\n",
       "      <th>2015-01-06</th>\n",
       "      <td>libra/real</td>\n",
       "      <td>4.23</td>\n",
       "    </tr>\n",
       "  </tbody>\n",
       "</table>\n",
       "</div>"
      ],
      "text/plain": [
       "                 moeda  cotacao\n",
       "data                           \n",
       "2015-01-05  libra/real     4.15\n",
       "2015-01-06  dolar/real     5.26\n",
       "2015-01-06  libra/real     4.23"
      ]
     },
     "execution_count": 31,
     "metadata": {},
     "output_type": "execute_result"
    }
   ],
   "source": [
    "#Libra ou maior que 5.25\n",
    "\n",
    "cambio_libra_ou_maior_que_525 = df_cambio[(df_cambio['moeda'] == 'libra/real') | (df_cambio['cotacao'] > 5.25)]\n",
    "cambio_libra_ou_maior_que_525"
   ]
  },
  {
   "cell_type": "code",
   "execution_count": 33,
   "id": "b314cd38",
   "metadata": {},
   "outputs": [
    {
     "data": {
      "text/html": [
       "<div>\n",
       "<style scoped>\n",
       "    .dataframe tbody tr th:only-of-type {\n",
       "        vertical-align: middle;\n",
       "    }\n",
       "\n",
       "    .dataframe tbody tr th {\n",
       "        vertical-align: top;\n",
       "    }\n",
       "\n",
       "    .dataframe thead th {\n",
       "        text-align: right;\n",
       "    }\n",
       "</style>\n",
       "<table border=\"1\" class=\"dataframe\">\n",
       "  <thead>\n",
       "    <tr style=\"text-align: right;\">\n",
       "      <th></th>\n",
       "      <th>moeda</th>\n",
       "      <th>cotacao</th>\n",
       "    </tr>\n",
       "    <tr>\n",
       "      <th>data</th>\n",
       "      <th></th>\n",
       "      <th></th>\n",
       "    </tr>\n",
       "  </thead>\n",
       "  <tbody>\n",
       "    <tr>\n",
       "      <th>2015-01-05</th>\n",
       "      <td>libra/real</td>\n",
       "      <td>4.15</td>\n",
       "    </tr>\n",
       "  </tbody>\n",
       "</table>\n",
       "</div>"
      ],
      "text/plain": [
       "                 moeda  cotacao\n",
       "data                           \n",
       "2015-01-05  libra/real     4.15"
      ]
     },
     "execution_count": 33,
     "metadata": {},
     "output_type": "execute_result"
    }
   ],
   "source": [
    "# Podemos filtrar o indice também\n",
    "\n",
    "# Libra no dia 5 de janeiro de 2015\n",
    "\n",
    "libra_5_jan = df_cambio[(df_cambio['moeda'] == 'libra/real') & (df_cambio.index == '2015-01-05')]\n",
    "libra_5_jan"
   ]
  },
  {
   "cell_type": "markdown",
   "id": "63d25d63",
   "metadata": {},
   "source": [
    "# Exercícios\n",
    "\n",
    "- Exercício 40: Mude o nome da coluna do dataframe do exercício 39 de 'cotacoes' para 'precos'.\n",
    "\n",
    "- Exercício 41: Selecione a coluna de preços do dataframe estudado.\n",
    "\n",
    "- Exercício 42: Selecione as duas últimas colunas do dataframe estudado.\n",
    "\n",
    "- Exercício 43: Selecione as informações da Petrobras no dataframe estudado.\n",
    "\n",
    "- Exercício 44: Selecione apenas empresas com P/L menor que 20\n",
    "\n",
    "- Exercício 45: Selecione empresas com P/L maior que 10 e volume maior que 2000.\n",
    "\n",
    "- Exercício 46: Selecione empresas que a cotação seja maior que 20 ou o volume é maior que 4000."
   ]
  },
  {
   "cell_type": "code",
   "execution_count": 38,
   "id": "a30c827d",
   "metadata": {},
   "outputs": [
    {
     "data": {
      "text/html": [
       "<div>\n",
       "<style scoped>\n",
       "    .dataframe tbody tr th:only-of-type {\n",
       "        vertical-align: middle;\n",
       "    }\n",
       "\n",
       "    .dataframe tbody tr th {\n",
       "        vertical-align: top;\n",
       "    }\n",
       "\n",
       "    .dataframe thead th {\n",
       "        text-align: right;\n",
       "    }\n",
       "</style>\n",
       "<table border=\"1\" class=\"dataframe\">\n",
       "  <thead>\n",
       "    <tr style=\"text-align: right;\">\n",
       "      <th></th>\n",
       "      <th>nomes</th>\n",
       "      <th>precos</th>\n",
       "      <th>preco_sobre_lucro</th>\n",
       "      <th>volume</th>\n",
       "    </tr>\n",
       "    <tr>\n",
       "      <th>tickers</th>\n",
       "      <th></th>\n",
       "      <th></th>\n",
       "      <th></th>\n",
       "      <th></th>\n",
       "    </tr>\n",
       "  </thead>\n",
       "  <tbody>\n",
       "    <tr>\n",
       "      <th>WEGE3</th>\n",
       "      <td>Weg</td>\n",
       "      <td>20</td>\n",
       "      <td>25</td>\n",
       "      <td>5000</td>\n",
       "    </tr>\n",
       "    <tr>\n",
       "      <th>PETR3</th>\n",
       "      <td>Petrobras</td>\n",
       "      <td>30</td>\n",
       "      <td>6</td>\n",
       "      <td>1000</td>\n",
       "    </tr>\n",
       "    <tr>\n",
       "      <th>VALE3</th>\n",
       "      <td>Vale</td>\n",
       "      <td>40</td>\n",
       "      <td>12</td>\n",
       "      <td>4000</td>\n",
       "    </tr>\n",
       "    <tr>\n",
       "      <th>PETR4</th>\n",
       "      <td>Petrobras</td>\n",
       "      <td>12</td>\n",
       "      <td>7</td>\n",
       "      <td>7000</td>\n",
       "    </tr>\n",
       "    <tr>\n",
       "      <th>LREN3</th>\n",
       "      <td>Lojas Renner</td>\n",
       "      <td>35</td>\n",
       "      <td>25</td>\n",
       "      <td>1200</td>\n",
       "    </tr>\n",
       "  </tbody>\n",
       "</table>\n",
       "</div>"
      ],
      "text/plain": [
       "                nomes  precos  preco_sobre_lucro  volume\n",
       "tickers                                                 \n",
       "WEGE3             Weg      20                 25    5000\n",
       "PETR3       Petrobras      30                  6    1000\n",
       "VALE3            Vale      40                 12    4000\n",
       "PETR4       Petrobras      12                  7    7000\n",
       "LREN3    Lojas Renner      35                 25    1200"
      ]
     },
     "execution_count": 38,
     "metadata": {},
     "output_type": "execute_result"
    }
   ],
   "source": [
    "# Exercício 40\n",
    "\n",
    "dados_cotacoes = {\n",
    "    'tickers': [\"WEGE3\", \"PETR3\", \"VALE3\", \"PETR4\",\"LREN3\"],\n",
    "    'cotacoes': [20, 30, 40, 12, 35],\n",
    "    'nomes': [\"Weg\", \"Petrobras\", \"Vale\", \"Petrobras\", \"Lojas Renner\"],\n",
    "    'preco_sobre_lucro': [25,6,12,7,25],\n",
    "    'volume': [5000, 1000, 4000,7000,1200]\n",
    "}\n",
    "\n",
    "df = pd.DataFrame(dados_cotacoes, index = [0,1,2,3,4],\n",
    "                 columns = ['nomes','tickers','cotacoes','preco_sobre_lucro','volume'])\n",
    "\n",
    "df = df.set_index('tickers')\n",
    "df.columns = ['nomes', 'precos', 'preco_sobre_lucro', 'volume']\n",
    "df"
   ]
  },
  {
   "cell_type": "code",
   "execution_count": 39,
   "id": "4c814918",
   "metadata": {},
   "outputs": [
    {
     "data": {
      "text/plain": [
       "tickers\n",
       "WEGE3    20\n",
       "PETR3    30\n",
       "VALE3    40\n",
       "PETR4    12\n",
       "LREN3    35\n",
       "Name: precos, dtype: int64"
      ]
     },
     "execution_count": 39,
     "metadata": {},
     "output_type": "execute_result"
    }
   ],
   "source": [
    "# Exercício 41\n",
    "\n",
    "df['precos']\n",
    "\n",
    "# ou \n",
    "\n",
    "df.precos"
   ]
  },
  {
   "cell_type": "code",
   "execution_count": 40,
   "id": "f20a5d46",
   "metadata": {},
   "outputs": [
    {
     "data": {
      "text/html": [
       "<div>\n",
       "<style scoped>\n",
       "    .dataframe tbody tr th:only-of-type {\n",
       "        vertical-align: middle;\n",
       "    }\n",
       "\n",
       "    .dataframe tbody tr th {\n",
       "        vertical-align: top;\n",
       "    }\n",
       "\n",
       "    .dataframe thead th {\n",
       "        text-align: right;\n",
       "    }\n",
       "</style>\n",
       "<table border=\"1\" class=\"dataframe\">\n",
       "  <thead>\n",
       "    <tr style=\"text-align: right;\">\n",
       "      <th></th>\n",
       "      <th>preco_sobre_lucro</th>\n",
       "      <th>volume</th>\n",
       "    </tr>\n",
       "    <tr>\n",
       "      <th>tickers</th>\n",
       "      <th></th>\n",
       "      <th></th>\n",
       "    </tr>\n",
       "  </thead>\n",
       "  <tbody>\n",
       "    <tr>\n",
       "      <th>WEGE3</th>\n",
       "      <td>25</td>\n",
       "      <td>5000</td>\n",
       "    </tr>\n",
       "    <tr>\n",
       "      <th>PETR3</th>\n",
       "      <td>6</td>\n",
       "      <td>1000</td>\n",
       "    </tr>\n",
       "    <tr>\n",
       "      <th>VALE3</th>\n",
       "      <td>12</td>\n",
       "      <td>4000</td>\n",
       "    </tr>\n",
       "    <tr>\n",
       "      <th>PETR4</th>\n",
       "      <td>7</td>\n",
       "      <td>7000</td>\n",
       "    </tr>\n",
       "    <tr>\n",
       "      <th>LREN3</th>\n",
       "      <td>25</td>\n",
       "      <td>1200</td>\n",
       "    </tr>\n",
       "  </tbody>\n",
       "</table>\n",
       "</div>"
      ],
      "text/plain": [
       "         preco_sobre_lucro  volume\n",
       "tickers                           \n",
       "WEGE3                   25    5000\n",
       "PETR3                    6    1000\n",
       "VALE3                   12    4000\n",
       "PETR4                    7    7000\n",
       "LREN3                   25    1200"
      ]
     },
     "execution_count": 40,
     "metadata": {},
     "output_type": "execute_result"
    }
   ],
   "source": [
    "# Exercício 42\n",
    "\n",
    "df[['preco_sobre_lucro','volume']]"
   ]
  },
  {
   "cell_type": "code",
   "execution_count": 44,
   "id": "2be1f78d",
   "metadata": {},
   "outputs": [
    {
     "data": {
      "text/html": [
       "<div>\n",
       "<style scoped>\n",
       "    .dataframe tbody tr th:only-of-type {\n",
       "        vertical-align: middle;\n",
       "    }\n",
       "\n",
       "    .dataframe tbody tr th {\n",
       "        vertical-align: top;\n",
       "    }\n",
       "\n",
       "    .dataframe thead th {\n",
       "        text-align: right;\n",
       "    }\n",
       "</style>\n",
       "<table border=\"1\" class=\"dataframe\">\n",
       "  <thead>\n",
       "    <tr style=\"text-align: right;\">\n",
       "      <th></th>\n",
       "      <th>nomes</th>\n",
       "      <th>precos</th>\n",
       "      <th>preco_sobre_lucro</th>\n",
       "      <th>volume</th>\n",
       "    </tr>\n",
       "    <tr>\n",
       "      <th>tickers</th>\n",
       "      <th></th>\n",
       "      <th></th>\n",
       "      <th></th>\n",
       "      <th></th>\n",
       "    </tr>\n",
       "  </thead>\n",
       "  <tbody>\n",
       "    <tr>\n",
       "      <th>PETR3</th>\n",
       "      <td>Petrobras</td>\n",
       "      <td>30</td>\n",
       "      <td>6</td>\n",
       "      <td>1000</td>\n",
       "    </tr>\n",
       "    <tr>\n",
       "      <th>PETR4</th>\n",
       "      <td>Petrobras</td>\n",
       "      <td>12</td>\n",
       "      <td>7</td>\n",
       "      <td>7000</td>\n",
       "    </tr>\n",
       "  </tbody>\n",
       "</table>\n",
       "</div>"
      ],
      "text/plain": [
       "             nomes  precos  preco_sobre_lucro  volume\n",
       "tickers                                              \n",
       "PETR3    Petrobras      30                  6    1000\n",
       "PETR4    Petrobras      12                  7    7000"
      ]
     },
     "execution_count": 44,
     "metadata": {},
     "output_type": "execute_result"
    }
   ],
   "source": [
    "# Exercício 43\n",
    "\n",
    "df_petrobras = df[(df.index == 'PETR3') | (df.index == 'PETR4')]\n",
    "df_petrobras"
   ]
  },
  {
   "cell_type": "code",
   "execution_count": 45,
   "id": "dfceca3c",
   "metadata": {},
   "outputs": [
    {
     "data": {
      "text/html": [
       "<div>\n",
       "<style scoped>\n",
       "    .dataframe tbody tr th:only-of-type {\n",
       "        vertical-align: middle;\n",
       "    }\n",
       "\n",
       "    .dataframe tbody tr th {\n",
       "        vertical-align: top;\n",
       "    }\n",
       "\n",
       "    .dataframe thead th {\n",
       "        text-align: right;\n",
       "    }\n",
       "</style>\n",
       "<table border=\"1\" class=\"dataframe\">\n",
       "  <thead>\n",
       "    <tr style=\"text-align: right;\">\n",
       "      <th></th>\n",
       "      <th>nomes</th>\n",
       "      <th>precos</th>\n",
       "      <th>preco_sobre_lucro</th>\n",
       "      <th>volume</th>\n",
       "    </tr>\n",
       "    <tr>\n",
       "      <th>tickers</th>\n",
       "      <th></th>\n",
       "      <th></th>\n",
       "      <th></th>\n",
       "      <th></th>\n",
       "    </tr>\n",
       "  </thead>\n",
       "  <tbody>\n",
       "    <tr>\n",
       "      <th>PETR3</th>\n",
       "      <td>Petrobras</td>\n",
       "      <td>30</td>\n",
       "      <td>6</td>\n",
       "      <td>1000</td>\n",
       "    </tr>\n",
       "    <tr>\n",
       "      <th>VALE3</th>\n",
       "      <td>Vale</td>\n",
       "      <td>40</td>\n",
       "      <td>12</td>\n",
       "      <td>4000</td>\n",
       "    </tr>\n",
       "    <tr>\n",
       "      <th>PETR4</th>\n",
       "      <td>Petrobras</td>\n",
       "      <td>12</td>\n",
       "      <td>7</td>\n",
       "      <td>7000</td>\n",
       "    </tr>\n",
       "  </tbody>\n",
       "</table>\n",
       "</div>"
      ],
      "text/plain": [
       "             nomes  precos  preco_sobre_lucro  volume\n",
       "tickers                                              \n",
       "PETR3    Petrobras      30                  6    1000\n",
       "VALE3         Vale      40                 12    4000\n",
       "PETR4    Petrobras      12                  7    7000"
      ]
     },
     "execution_count": 45,
     "metadata": {},
     "output_type": "execute_result"
    }
   ],
   "source": [
    "# Exercício 44\n",
    "\n",
    "df_empresas_preco_sobre_lucro_menor_que_20 = df[(df['preco_sobre_lucro'] < 20)]\n",
    "df_empresas_preco_sobre_lucro_menor_que_20"
   ]
  },
  {
   "cell_type": "code",
   "execution_count": 46,
   "id": "2690502f",
   "metadata": {},
   "outputs": [
    {
     "data": {
      "text/html": [
       "<div>\n",
       "<style scoped>\n",
       "    .dataframe tbody tr th:only-of-type {\n",
       "        vertical-align: middle;\n",
       "    }\n",
       "\n",
       "    .dataframe tbody tr th {\n",
       "        vertical-align: top;\n",
       "    }\n",
       "\n",
       "    .dataframe thead th {\n",
       "        text-align: right;\n",
       "    }\n",
       "</style>\n",
       "<table border=\"1\" class=\"dataframe\">\n",
       "  <thead>\n",
       "    <tr style=\"text-align: right;\">\n",
       "      <th></th>\n",
       "      <th>nomes</th>\n",
       "      <th>precos</th>\n",
       "      <th>preco_sobre_lucro</th>\n",
       "      <th>volume</th>\n",
       "    </tr>\n",
       "    <tr>\n",
       "      <th>tickers</th>\n",
       "      <th></th>\n",
       "      <th></th>\n",
       "      <th></th>\n",
       "      <th></th>\n",
       "    </tr>\n",
       "  </thead>\n",
       "  <tbody>\n",
       "    <tr>\n",
       "      <th>WEGE3</th>\n",
       "      <td>Weg</td>\n",
       "      <td>20</td>\n",
       "      <td>25</td>\n",
       "      <td>5000</td>\n",
       "    </tr>\n",
       "    <tr>\n",
       "      <th>VALE3</th>\n",
       "      <td>Vale</td>\n",
       "      <td>40</td>\n",
       "      <td>12</td>\n",
       "      <td>4000</td>\n",
       "    </tr>\n",
       "  </tbody>\n",
       "</table>\n",
       "</div>"
      ],
      "text/plain": [
       "        nomes  precos  preco_sobre_lucro  volume\n",
       "tickers                                         \n",
       "WEGE3     Weg      20                 25    5000\n",
       "VALE3    Vale      40                 12    4000"
      ]
     },
     "execution_count": 46,
     "metadata": {},
     "output_type": "execute_result"
    }
   ],
   "source": [
    "# Exercício 45:\n",
    "\n",
    "df_empresas_preco_lucro_maior_que_10_e_volume_maior_que_2000 = df[(df['preco_sobre_lucro'] > 10) & (df['volume'] > 2000)]\n",
    "df_empresas_preco_lucro_maior_que_10_e_volume_maior_que_2000"
   ]
  },
  {
   "cell_type": "code",
   "execution_count": 48,
   "id": "3828dd40",
   "metadata": {},
   "outputs": [
    {
     "data": {
      "text/html": [
       "<div>\n",
       "<style scoped>\n",
       "    .dataframe tbody tr th:only-of-type {\n",
       "        vertical-align: middle;\n",
       "    }\n",
       "\n",
       "    .dataframe tbody tr th {\n",
       "        vertical-align: top;\n",
       "    }\n",
       "\n",
       "    .dataframe thead th {\n",
       "        text-align: right;\n",
       "    }\n",
       "</style>\n",
       "<table border=\"1\" class=\"dataframe\">\n",
       "  <thead>\n",
       "    <tr style=\"text-align: right;\">\n",
       "      <th></th>\n",
       "      <th>nomes</th>\n",
       "      <th>precos</th>\n",
       "      <th>preco_sobre_lucro</th>\n",
       "      <th>volume</th>\n",
       "    </tr>\n",
       "    <tr>\n",
       "      <th>tickers</th>\n",
       "      <th></th>\n",
       "      <th></th>\n",
       "      <th></th>\n",
       "      <th></th>\n",
       "    </tr>\n",
       "  </thead>\n",
       "  <tbody>\n",
       "    <tr>\n",
       "      <th>WEGE3</th>\n",
       "      <td>Weg</td>\n",
       "      <td>20</td>\n",
       "      <td>25</td>\n",
       "      <td>5000</td>\n",
       "    </tr>\n",
       "    <tr>\n",
       "      <th>PETR3</th>\n",
       "      <td>Petrobras</td>\n",
       "      <td>30</td>\n",
       "      <td>6</td>\n",
       "      <td>1000</td>\n",
       "    </tr>\n",
       "    <tr>\n",
       "      <th>VALE3</th>\n",
       "      <td>Vale</td>\n",
       "      <td>40</td>\n",
       "      <td>12</td>\n",
       "      <td>4000</td>\n",
       "    </tr>\n",
       "    <tr>\n",
       "      <th>PETR4</th>\n",
       "      <td>Petrobras</td>\n",
       "      <td>12</td>\n",
       "      <td>7</td>\n",
       "      <td>7000</td>\n",
       "    </tr>\n",
       "    <tr>\n",
       "      <th>LREN3</th>\n",
       "      <td>Lojas Renner</td>\n",
       "      <td>35</td>\n",
       "      <td>25</td>\n",
       "      <td>1200</td>\n",
       "    </tr>\n",
       "  </tbody>\n",
       "</table>\n",
       "</div>"
      ],
      "text/plain": [
       "                nomes  precos  preco_sobre_lucro  volume\n",
       "tickers                                                 \n",
       "WEGE3             Weg      20                 25    5000\n",
       "PETR3       Petrobras      30                  6    1000\n",
       "VALE3            Vale      40                 12    4000\n",
       "PETR4       Petrobras      12                  7    7000\n",
       "LREN3    Lojas Renner      35                 25    1200"
      ]
     },
     "execution_count": 48,
     "metadata": {},
     "output_type": "execute_result"
    }
   ],
   "source": [
    "# Exercício 46\n",
    "\n",
    "df_empresas_cotacao_maior_que_20_ou_volume_maior_que_4000 = df[(df['precos'] > 20) | (df['volume'] > 4000)]\n",
    "df_empresas_cotacao_maior_que_20_ou_volume_maior_que_4000"
   ]
  },
  {
   "cell_type": "code",
   "execution_count": null,
   "id": "69a9f896",
   "metadata": {},
   "outputs": [],
   "source": []
  }
 ],
 "metadata": {
  "kernelspec": {
   "display_name": "Python 3 (ipykernel)",
   "language": "python",
   "name": "python3"
  },
  "language_info": {
   "codemirror_mode": {
    "name": "ipython",
    "version": 3
   },
   "file_extension": ".py",
   "mimetype": "text/x-python",
   "name": "python",
   "nbconvert_exporter": "python",
   "pygments_lexer": "ipython3",
   "version": "3.9.13"
  }
 },
 "nbformat": 4,
 "nbformat_minor": 5
}
