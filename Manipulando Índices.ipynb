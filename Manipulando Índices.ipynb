{
 "cells": [
  {
   "cell_type": "code",
   "execution_count": 1,
   "id": "4b4703aa",
   "metadata": {},
   "outputs": [],
   "source": [
    "import pandas as pd"
   ]
  },
  {
   "cell_type": "code",
   "execution_count": 2,
   "id": "ae0291ba",
   "metadata": {},
   "outputs": [
    {
     "name": "stdout",
     "output_type": "stream",
     "text": [
      "Index(['América do Sul', 'Europa', 'Oceania'], dtype='object')\n"
     ]
    },
    {
     "data": {
      "text/plain": [
       "'Europa'"
      ]
     },
     "execution_count": 2,
     "metadata": {},
     "output_type": "execute_result"
    }
   ],
   "source": [
    "# Como criar um indice\n",
    "\n",
    "serie = pd.Series(['Brasil','França','Austrália'],\n",
    "                 index = ['América do Sul','Europa','Oceania'])\n",
    "\n",
    "print(serie.index)\n",
    "serie.index[1]"
   ]
  },
  {
   "cell_type": "code",
   "execution_count": 4,
   "id": "d1e6b87b",
   "metadata": {},
   "outputs": [
    {
     "name": "stdout",
     "output_type": "stream",
     "text": [
      "     empresa  cotacao\n",
      "0        Weg    20.54\n",
      "1  Petrobras    20.00\n",
      "2       Vale    40.00\n",
      "           cotacao\n",
      "empresa           \n",
      "Weg          20.54\n",
      "Petrobras    20.00\n",
      "Vale         40.00\n"
     ]
    },
    {
     "data": {
      "text/plain": [
       "cotacao    20.54\n",
       "Name: Weg, dtype: float64"
      ]
     },
     "execution_count": 4,
     "metadata": {},
     "output_type": "execute_result"
    }
   ],
   "source": [
    "# Como colocar uma coluna como indice\n",
    "\n",
    "dicionario = {'empresa': ['Weg','Petrobras','Vale'], 'cotacao': [20.54, 20, 40]}\n",
    "\n",
    "dataframe = pd.DataFrame(dicionario)\n",
    "\n",
    "print(dataframe)\n",
    "\n",
    "dataframe = dataframe.set_index('empresa')\n",
    "\n",
    "print(dataframe)\n",
    "dataframe.loc['Weg']"
   ]
  },
  {
   "cell_type": "code",
   "execution_count": 6,
   "id": "cd7550fc",
   "metadata": {},
   "outputs": [
    {
     "name": "stdout",
     "output_type": "stream",
     "text": [
      "     empresa  cotacao\n",
      "0        Weg    20.54\n",
      "1  Petrobras    20.00\n",
      "2       Vale    40.00\n",
      "     empresa  cotacao\n",
      "a        Weg    20.54\n",
      "b  Petrobras    20.00\n",
      "c       Vale    40.00\n"
     ]
    }
   ],
   "source": [
    "# Como criar um novo index, do zero ou de forma aleatória\n",
    "\n",
    "dataframe = dataframe.reset_index()\n",
    "\n",
    "print(dataframe)\n",
    "\n",
    "dataframe.index = ['a','b','c']\n",
    "\n",
    "print(dataframe)"
   ]
  },
  {
   "cell_type": "code",
   "execution_count": 8,
   "id": "cad082cd",
   "metadata": {},
   "outputs": [
    {
     "name": "stdout",
     "output_type": "stream",
     "text": [
      "DatetimeIndex(['2000-01-04', '2000-01-05', '2000-01-06', '2000-01-07'], dtype='datetime64[ns]', freq='D')\n"
     ]
    },
    {
     "name": "stderr",
     "output_type": "stream",
     "text": [
      "C:\\Users\\Pichau\\AppData\\Local\\Temp\\ipykernel_18208\\2775252228.py:7: UserWarning: Parsing dates in DD/MM/YYYY format when dayfirst=False (the default) was specified. This may lead to inconsistently parsed dates! Specify a format to ensure consistent parsing.\n",
      "  fim_mes = pd.date_range(start = '1/1/2000', end = '31/12/2000', freq = 'M')\n"
     ]
    },
    {
     "data": {
      "text/plain": [
       "DatetimeIndex(['2000-01-31', '2000-02-29', '2000-03-31', '2000-04-30',\n",
       "               '2000-05-31', '2000-06-30', '2000-07-31', '2000-08-31',\n",
       "               '2000-09-30', '2000-10-31', '2000-11-30', '2000-12-31'],\n",
       "              dtype='datetime64[ns]', freq='M')"
      ]
     },
     "execution_count": 8,
     "metadata": {},
     "output_type": "execute_result"
    }
   ],
   "source": [
    "# Como criar uma range de data como um índice\n",
    "\n",
    "quatro_dias = pd.date_range('1/4/2000', periods = 4)\n",
    "\n",
    "print(quatro_dias)\n",
    "\n",
    "fim_mes = pd.date_range(start = '1/1/2000', end = '31/12/2000', freq = 'M')\n",
    "\n",
    "fim_mes"
   ]
  },
  {
   "cell_type": "code",
   "execution_count": 9,
   "id": "1530f39b",
   "metadata": {},
   "outputs": [
    {
     "name": "stdout",
     "output_type": "stream",
     "text": [
      "DatetimeIndex(['2000-01-31', '2000-02-29', '2000-03-31', '2000-04-30'], dtype='datetime64[ns]', freq='M')\n",
      "            cotacao\n",
      "2000-01-31    20.54\n",
      "2000-02-29    20.00\n",
      "2000-03-31    21.00\n",
      "2000-04-30    22.00\n"
     ]
    },
    {
     "name": "stderr",
     "output_type": "stream",
     "text": [
      "C:\\Users\\Pichau\\AppData\\Local\\Temp\\ipykernel_18208\\1200947578.py:1: UserWarning: Parsing dates in DD/MM/YYYY format when dayfirst=False (the default) was specified. This may lead to inconsistently parsed dates! Specify a format to ensure consistent parsing.\n",
      "  fim_mes_weg = pd.date_range(start = '1/1/2000', end = '30/4/2000', freq = 'M')\n"
     ]
    }
   ],
   "source": [
    "fim_mes_weg = pd.date_range(start = '1/1/2000', end = '30/4/2000', freq = 'M')\n",
    "\n",
    "print(fim_mes_weg)\n",
    "\n",
    "dicionario = {'cotacao': [20.54, 20, 21, 22]}\n",
    "\n",
    "cotacao_weg = pd.DataFrame(dicionario, index = fim_mes_weg)\n",
    "\n",
    "print(cotacao_weg)"
   ]
  },
  {
   "cell_type": "code",
   "execution_count": 11,
   "id": "c582e5bb",
   "metadata": {},
   "outputs": [
    {
     "data": {
      "text/html": [
       "<div>\n",
       "<style scoped>\n",
       "    .dataframe tbody tr th:only-of-type {\n",
       "        vertical-align: middle;\n",
       "    }\n",
       "\n",
       "    .dataframe tbody tr th {\n",
       "        vertical-align: top;\n",
       "    }\n",
       "\n",
       "    .dataframe thead th {\n",
       "        text-align: right;\n",
       "    }\n",
       "</style>\n",
       "<table border=\"1\" class=\"dataframe\">\n",
       "  <thead>\n",
       "    <tr style=\"text-align: right;\">\n",
       "      <th></th>\n",
       "      <th>cotacao</th>\n",
       "    </tr>\n",
       "  </thead>\n",
       "  <tbody>\n",
       "    <tr>\n",
       "      <th>2000-02-29</th>\n",
       "      <td>20.0</td>\n",
       "    </tr>\n",
       "    <tr>\n",
       "      <th>2000-03-31</th>\n",
       "      <td>21.0</td>\n",
       "    </tr>\n",
       "    <tr>\n",
       "      <th>2000-04-30</th>\n",
       "      <td>22.0</td>\n",
       "    </tr>\n",
       "  </tbody>\n",
       "</table>\n",
       "</div>"
      ],
      "text/plain": [
       "            cotacao\n",
       "2000-02-29     20.0\n",
       "2000-03-31     21.0\n",
       "2000-04-30     22.0"
      ]
     },
     "execution_count": 11,
     "metadata": {},
     "output_type": "execute_result"
    }
   ],
   "source": [
    "cotacao_weg[cotacao_weg.index > '2000-02-25']"
   ]
  },
  {
   "cell_type": "markdown",
   "id": "31202f29",
   "metadata": {},
   "source": [
    "# Exercícios\n",
    "\n",
    "- Exercício 37: Crie um dataframe que as colunas tenham informações fictícas de cotações, volumes, data de cada dado. Utilize pd.date_range para criar a coluna de datas.\n",
    "\n",
    "- Exercício 38: Converta a coluna 'datas' para índice.\n",
    "\n",
    "- Exercício 39: Converta a coluna 'tickers' do dataframe do exercício 36 como índice."
   ]
  },
  {
   "cell_type": "code",
   "execution_count": 26,
   "id": "38bf7e21",
   "metadata": {},
   "outputs": [
    {
     "name": "stderr",
     "output_type": "stream",
     "text": [
      "C:\\Users\\Pichau\\AppData\\Local\\Temp\\ipykernel_18208\\1597096478.py:4: UserWarning: Parsing dates in DD/MM/YYYY format when dayfirst=False (the default) was specified. This may lead to inconsistently parsed dates! Specify a format to ensure consistent parsing.\n",
      "  'data': pd.date_range(start = '01/01/2023', end = '31/03/2023', freq = 'M'),\n"
     ]
    },
    {
     "data": {
      "text/html": [
       "<div>\n",
       "<style scoped>\n",
       "    .dataframe tbody tr th:only-of-type {\n",
       "        vertical-align: middle;\n",
       "    }\n",
       "\n",
       "    .dataframe tbody tr th {\n",
       "        vertical-align: top;\n",
       "    }\n",
       "\n",
       "    .dataframe thead th {\n",
       "        text-align: right;\n",
       "    }\n",
       "</style>\n",
       "<table border=\"1\" class=\"dataframe\">\n",
       "  <thead>\n",
       "    <tr style=\"text-align: right;\">\n",
       "      <th></th>\n",
       "      <th>data</th>\n",
       "      <th>tickers</th>\n",
       "      <th>cotacao</th>\n",
       "      <th>volume</th>\n",
       "    </tr>\n",
       "  </thead>\n",
       "  <tbody>\n",
       "    <tr>\n",
       "      <th>0</th>\n",
       "      <td>2023-01-31</td>\n",
       "      <td>WEGE3</td>\n",
       "      <td>20.04</td>\n",
       "      <td>17000</td>\n",
       "    </tr>\n",
       "    <tr>\n",
       "      <th>1</th>\n",
       "      <td>2023-02-28</td>\n",
       "      <td>AMER3</td>\n",
       "      <td>12.08</td>\n",
       "      <td>10000</td>\n",
       "    </tr>\n",
       "    <tr>\n",
       "      <th>2</th>\n",
       "      <td>2023-03-31</td>\n",
       "      <td>PETR3</td>\n",
       "      <td>30.02</td>\n",
       "      <td>20000</td>\n",
       "    </tr>\n",
       "  </tbody>\n",
       "</table>\n",
       "</div>"
      ],
      "text/plain": [
       "        data tickers  cotacao  volume\n",
       "0 2023-01-31   WEGE3    20.04   17000\n",
       "1 2023-02-28   AMER3    12.08   10000\n",
       "2 2023-03-31   PETR3    30.02   20000"
      ]
     },
     "execution_count": 26,
     "metadata": {},
     "output_type": "execute_result"
    }
   ],
   "source": [
    "# Exercício 37\n",
    "\n",
    "dados = {\n",
    "    'data': pd.date_range(start = '01/01/2023', end = '31/03/2023', freq = 'M'),\n",
    "    'tickers': ['WEGE3','AMER3','PETR3'],\n",
    "    'cotacao': [20.04, 12.08, 30.02],\n",
    "    'volume': [17000, 10000, 20000]   \n",
    "}\n",
    "\n",
    "df = pd.DataFrame(dados)\n",
    "df"
   ]
  },
  {
   "cell_type": "code",
   "execution_count": 27,
   "id": "de422b0f",
   "metadata": {},
   "outputs": [
    {
     "data": {
      "text/html": [
       "<div>\n",
       "<style scoped>\n",
       "    .dataframe tbody tr th:only-of-type {\n",
       "        vertical-align: middle;\n",
       "    }\n",
       "\n",
       "    .dataframe tbody tr th {\n",
       "        vertical-align: top;\n",
       "    }\n",
       "\n",
       "    .dataframe thead th {\n",
       "        text-align: right;\n",
       "    }\n",
       "</style>\n",
       "<table border=\"1\" class=\"dataframe\">\n",
       "  <thead>\n",
       "    <tr style=\"text-align: right;\">\n",
       "      <th></th>\n",
       "      <th>tickers</th>\n",
       "      <th>cotacao</th>\n",
       "      <th>volume</th>\n",
       "    </tr>\n",
       "    <tr>\n",
       "      <th>data</th>\n",
       "      <th></th>\n",
       "      <th></th>\n",
       "      <th></th>\n",
       "    </tr>\n",
       "  </thead>\n",
       "  <tbody>\n",
       "    <tr>\n",
       "      <th>2023-01-31</th>\n",
       "      <td>WEGE3</td>\n",
       "      <td>20.04</td>\n",
       "      <td>17000</td>\n",
       "    </tr>\n",
       "    <tr>\n",
       "      <th>2023-02-28</th>\n",
       "      <td>AMER3</td>\n",
       "      <td>12.08</td>\n",
       "      <td>10000</td>\n",
       "    </tr>\n",
       "    <tr>\n",
       "      <th>2023-03-31</th>\n",
       "      <td>PETR3</td>\n",
       "      <td>30.02</td>\n",
       "      <td>20000</td>\n",
       "    </tr>\n",
       "  </tbody>\n",
       "</table>\n",
       "</div>"
      ],
      "text/plain": [
       "           tickers  cotacao  volume\n",
       "data                               \n",
       "2023-01-31   WEGE3    20.04   17000\n",
       "2023-02-28   AMER3    12.08   10000\n",
       "2023-03-31   PETR3    30.02   20000"
      ]
     },
     "execution_count": 27,
     "metadata": {},
     "output_type": "execute_result"
    }
   ],
   "source": [
    "# Exercício 38\n",
    "\n",
    "df1 = df.set_index('data')\n",
    "df1"
   ]
  },
  {
   "cell_type": "code",
   "execution_count": 28,
   "id": "347e0521",
   "metadata": {},
   "outputs": [
    {
     "data": {
      "text/html": [
       "<div>\n",
       "<style scoped>\n",
       "    .dataframe tbody tr th:only-of-type {\n",
       "        vertical-align: middle;\n",
       "    }\n",
       "\n",
       "    .dataframe tbody tr th {\n",
       "        vertical-align: top;\n",
       "    }\n",
       "\n",
       "    .dataframe thead th {\n",
       "        text-align: right;\n",
       "    }\n",
       "</style>\n",
       "<table border=\"1\" class=\"dataframe\">\n",
       "  <thead>\n",
       "    <tr style=\"text-align: right;\">\n",
       "      <th></th>\n",
       "      <th>nomes</th>\n",
       "      <th>cotacoes</th>\n",
       "      <th>preco_sobre_lucro</th>\n",
       "      <th>volume</th>\n",
       "    </tr>\n",
       "    <tr>\n",
       "      <th>tickers</th>\n",
       "      <th></th>\n",
       "      <th></th>\n",
       "      <th></th>\n",
       "      <th></th>\n",
       "    </tr>\n",
       "  </thead>\n",
       "  <tbody>\n",
       "    <tr>\n",
       "      <th>WEGE3</th>\n",
       "      <td>Weg</td>\n",
       "      <td>20</td>\n",
       "      <td>25</td>\n",
       "      <td>5000</td>\n",
       "    </tr>\n",
       "    <tr>\n",
       "      <th>PETR3</th>\n",
       "      <td>Petrobras</td>\n",
       "      <td>30</td>\n",
       "      <td>6</td>\n",
       "      <td>1000</td>\n",
       "    </tr>\n",
       "    <tr>\n",
       "      <th>VALE3</th>\n",
       "      <td>Vale</td>\n",
       "      <td>40</td>\n",
       "      <td>12</td>\n",
       "      <td>4000</td>\n",
       "    </tr>\n",
       "    <tr>\n",
       "      <th>PETR4</th>\n",
       "      <td>Petrobras</td>\n",
       "      <td>12</td>\n",
       "      <td>7</td>\n",
       "      <td>7000</td>\n",
       "    </tr>\n",
       "    <tr>\n",
       "      <th>LREN3</th>\n",
       "      <td>Lojas Renner</td>\n",
       "      <td>35</td>\n",
       "      <td>25</td>\n",
       "      <td>1200</td>\n",
       "    </tr>\n",
       "  </tbody>\n",
       "</table>\n",
       "</div>"
      ],
      "text/plain": [
       "                nomes  cotacoes  preco_sobre_lucro  volume\n",
       "tickers                                                   \n",
       "WEGE3             Weg        20                 25    5000\n",
       "PETR3       Petrobras        30                  6    1000\n",
       "VALE3            Vale        40                 12    4000\n",
       "PETR4       Petrobras        12                  7    7000\n",
       "LREN3    Lojas Renner        35                 25    1200"
      ]
     },
     "execution_count": 28,
     "metadata": {},
     "output_type": "execute_result"
    }
   ],
   "source": [
    "# Exercício 39\n",
    "\n",
    "dados_cotacoes = {\n",
    "    'tickers': [\"WEGE3\", \"PETR3\", \"VALE3\", \"PETR4\",\"LREN3\"],\n",
    "    'cotacoes': [20, 30, 40, 12, 35],\n",
    "    'nomes': [\"Weg\", \"Petrobras\", \"Vale\", \"Petrobras\", \"Lojas Renner\"],\n",
    "    'preco_sobre_lucro': [25,6,12,7,25],\n",
    "    'volume': [5000, 1000, 4000,7000,1200]\n",
    "}\n",
    "\n",
    "df = pd.DataFrame(dados_cotacoes, index = [0,1,2,3,4],\n",
    "                 columns = ['nomes','tickers','cotacoes','preco_sobre_lucro','volume'])\n",
    "\n",
    "df = df.set_index('tickers')\n",
    "df"
   ]
  },
  {
   "cell_type": "code",
   "execution_count": null,
   "id": "fb71b48e",
   "metadata": {},
   "outputs": [],
   "source": []
  }
 ],
 "metadata": {
  "kernelspec": {
   "display_name": "Python 3 (ipykernel)",
   "language": "python",
   "name": "python3"
  },
  "language_info": {
   "codemirror_mode": {
    "name": "ipython",
    "version": 3
   },
   "file_extension": ".py",
   "mimetype": "text/x-python",
   "name": "python",
   "nbconvert_exporter": "python",
   "pygments_lexer": "ipython3",
   "version": "3.9.13"
  }
 },
 "nbformat": 4,
 "nbformat_minor": 5
}
