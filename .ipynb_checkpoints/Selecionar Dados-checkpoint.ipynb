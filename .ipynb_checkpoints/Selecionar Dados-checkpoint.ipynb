{
 "cells": [
  {
   "cell_type": "code",
   "execution_count": 1,
   "id": "b50a1906",
   "metadata": {},
   "outputs": [],
   "source": [
    "import pandas as pd"
   ]
  },
  {
   "cell_type": "code",
   "execution_count": 2,
   "id": "2d8c5df4",
   "metadata": {},
   "outputs": [
    {
     "data": {
      "text/html": [
       "<div>\n",
       "<style scoped>\n",
       "    .dataframe tbody tr th:only-of-type {\n",
       "        vertical-align: middle;\n",
       "    }\n",
       "\n",
       "    .dataframe tbody tr th {\n",
       "        vertical-align: top;\n",
       "    }\n",
       "\n",
       "    .dataframe thead th {\n",
       "        text-align: right;\n",
       "    }\n",
       "</style>\n",
       "<table border=\"1\" class=\"dataframe\">\n",
       "  <thead>\n",
       "    <tr style=\"text-align: right;\">\n",
       "      <th></th>\n",
       "      <th>moeda</th>\n",
       "      <th>price</th>\n",
       "      <th>derivativo</th>\n",
       "    </tr>\n",
       "  </thead>\n",
       "  <tbody>\n",
       "    <tr>\n",
       "      <th>2014-01-05</th>\n",
       "      <td>dolar/real</td>\n",
       "      <td>5.24</td>\n",
       "      <td>DOLFT3</td>\n",
       "    </tr>\n",
       "    <tr>\n",
       "      <th>2014-01-05</th>\n",
       "      <td>libra/real</td>\n",
       "      <td>4.15</td>\n",
       "      <td>LIBFT3</td>\n",
       "    </tr>\n",
       "    <tr>\n",
       "      <th>2014-01-06</th>\n",
       "      <td>dolar/real</td>\n",
       "      <td>5.26</td>\n",
       "      <td>DOLFT3</td>\n",
       "    </tr>\n",
       "    <tr>\n",
       "      <th>2014-01-06</th>\n",
       "      <td>libra/real</td>\n",
       "      <td>4.23</td>\n",
       "      <td>LIBFT3</td>\n",
       "    </tr>\n",
       "    <tr>\n",
       "      <th>2014-01-07</th>\n",
       "      <td>dolar/real</td>\n",
       "      <td>5.55</td>\n",
       "      <td>DOLFT3</td>\n",
       "    </tr>\n",
       "    <tr>\n",
       "      <th>2014-01-07</th>\n",
       "      <td>libra/real</td>\n",
       "      <td>4.02</td>\n",
       "      <td>LIBFT3</td>\n",
       "    </tr>\n",
       "    <tr>\n",
       "      <th>2014-01-08</th>\n",
       "      <td>dolar/real</td>\n",
       "      <td>5.76</td>\n",
       "      <td>DOLFT3</td>\n",
       "    </tr>\n",
       "    <tr>\n",
       "      <th>2014-01-08</th>\n",
       "      <td>libra/real</td>\n",
       "      <td>3.98</td>\n",
       "      <td>LIBFT3</td>\n",
       "    </tr>\n",
       "  </tbody>\n",
       "</table>\n",
       "</div>"
      ],
      "text/plain": [
       "                 moeda  price derivativo\n",
       "2014-01-05  dolar/real   5.24     DOLFT3\n",
       "2014-01-05  libra/real   4.15     LIBFT3\n",
       "2014-01-06  dolar/real   5.26     DOLFT3\n",
       "2014-01-06  libra/real   4.23     LIBFT3\n",
       "2014-01-07  dolar/real   5.55     DOLFT3\n",
       "2014-01-07  libra/real   4.02     LIBFT3\n",
       "2014-01-08  dolar/real   5.76     DOLFT3\n",
       "2014-01-08  libra/real   3.98     LIBFT3"
      ]
     },
     "execution_count": 2,
     "metadata": {},
     "output_type": "execute_result"
    }
   ],
   "source": [
    "df_cambio = pd.DataFrame({\n",
    "    'moeda': ['dolar/real', 'libra/real'] * 4,\n",
    "    'price': [5.24, 4.15, 5.26, 4.23, 5.55, 4.02, 5.76, 3.98],\n",
    "    'derivativo': list(['DOLFT3', 'LIBFT3']) * 4},\n",
    "    index = sorted(list(pd.date_range('1/5/2014', periods = 4)) * 2))\n",
    "\n",
    "df_cambio"
   ]
  },
  {
   "cell_type": "code",
   "execution_count": 10,
   "id": "11bc0066",
   "metadata": {},
   "outputs": [
    {
     "name": "stdout",
     "output_type": "stream",
     "text": [
      "                 moeda  price derivativo\n",
      "2014-01-05  dolar/real   5.24     DOLFT3\n",
      "2014-01-05  libra/real   4.15     LIBFT3\n",
      "                 moeda  price derivativo\n",
      "2014-01-05  dolar/real   5.24     DOLFT3\n",
      "2014-01-05  libra/real   4.15     LIBFT3\n",
      "2014-01-06  dolar/real   5.26     DOLFT3\n",
      "2014-01-06  libra/real   4.23     LIBFT3\n",
      "2014-01-07  dolar/real   5.55     DOLFT3\n",
      "2014-01-07  libra/real   4.02     LIBFT3\n",
      "2014-01-05    5.24\n",
      "2014-01-05    4.15\n",
      "2014-01-06    5.26\n",
      "2014-01-06    4.23\n",
      "2014-01-07    5.55\n",
      "2014-01-07    4.02\n",
      "Name: price, dtype: float64\n",
      "2014-01-05    5.24\n",
      "2014-01-05    4.15\n",
      "Name: price, dtype: float64\n",
      "                 moeda  price\n",
      "2014-01-05  dolar/real   5.24\n",
      "2014-01-05  libra/real   4.15\n",
      "2014-01-05    5.24\n",
      "2014-01-05    4.15\n",
      "2014-01-06    5.26\n",
      "2014-01-06    4.23\n",
      "2014-01-07    5.55\n",
      "2014-01-07    4.02\n",
      "2014-01-08    5.76\n",
      "2014-01-08    3.98\n",
      "Name: price, dtype: float64\n"
     ]
    }
   ],
   "source": [
    "# ferramentas loc, iloc, at, iat\n",
    "\n",
    "#loc serve para localizar através de nomes\n",
    "\n",
    "#um único dia\n",
    "print(df_cambio.loc['2014-01-05'])\n",
    "\n",
    "#algum período\n",
    "print(df_cambio.loc['2014-01-05':'2014-01-07'])\n",
    "\n",
    "\n",
    "#um período sobre a informação preço\n",
    "print(df_cambio.loc['2014-01-04':'2014-01-07','price'])\n",
    "\n",
    "#um dia sobre a informação preço\n",
    "print(df_cambio.loc['2014-01-05', 'price'])\n",
    "\n",
    "#um dia sobre a informação preço e moeda\n",
    "print(df_cambio.loc['2014-01-05', 'moeda':'price'])\n",
    "\n",
    "#todos os dados da infromação preço\n",
    "print(df_cambio.loc[:,'price'])\n"
   ]
  },
  {
   "cell_type": "code",
   "execution_count": 11,
   "id": "ca25e0c3",
   "metadata": {},
   "outputs": [
    {
     "data": {
      "text/plain": [
       "2014-01-05    5.24\n",
       "2014-01-05    4.15\n",
       "Name: price, dtype: float64"
      ]
     },
     "execution_count": 11,
     "metadata": {},
     "output_type": "execute_result"
    }
   ],
   "source": [
    "#at é igual ao loc, só que serva para localizar um único item + otimizado\n",
    "\n",
    "#df_cambio.at['2014-01-05'] # -> Retorna erro\n",
    "df_cambio.at['2014-01-05', 'price'] # Mais otimizado que loc para pegar uma linha e uma coluna"
   ]
  },
  {
   "cell_type": "code",
   "execution_count": 18,
   "id": "9706a418",
   "metadata": {},
   "outputs": [
    {
     "name": "stdout",
     "output_type": "stream",
     "text": [
      "moeda         dolar/real\n",
      "price               5.24\n",
      "derivativo        DOLFT3\n",
      "Name: 2014-01-05 00:00:00, dtype: object\n",
      "                 moeda  price derivativo\n",
      "2014-01-05  dolar/real   5.24     DOLFT3\n",
      "2014-01-05  libra/real   4.15     LIBFT3\n",
      "2014-01-06  dolar/real   5.26     DOLFT3\n",
      "2014-01-05    dolar/real\n",
      "2014-01-05    libra/real\n",
      "2014-01-06    dolar/real\n",
      "2014-01-06    libra/real\n",
      "2014-01-07    dolar/real\n",
      "2014-01-07    libra/real\n",
      "2014-01-08    dolar/real\n",
      "2014-01-08    libra/real\n",
      "Name: moeda, dtype: object\n",
      "5.24\n",
      "5.24\n",
      "moeda         libra/real\n",
      "price               3.98\n",
      "derivativo        LIBFT3\n",
      "Name: 2014-01-08 00:00:00, dtype: object\n"
     ]
    }
   ],
   "source": [
    "#iloc serve para selecionar itens através de índices numéricos.\n",
    "# Parecido com as listas, mas é preciso usar iloc antes.\n",
    "\n",
    "#primeira linha\n",
    "print(df_cambio.iloc[0,:])\n",
    "\n",
    "#tres primeiras linhas\n",
    "print(df_cambio.iloc[0:3,:])\n",
    "\n",
    "#primeira coluna\n",
    "print(df_cambio.iloc[:,0])\n",
    "\n",
    "#primeiro preço do cambio\n",
    "print(df_cambio.iloc[0,1])\n",
    "\n",
    "#primeiro preço do cambio com iat\n",
    "print(df_cambio.iat[0,1])\n",
    "\n",
    "#ultima linha\n",
    "print(df_cambio.iloc[-1,:])"
   ]
  },
  {
   "cell_type": "code",
   "execution_count": 22,
   "id": "d63e9b52",
   "metadata": {},
   "outputs": [
    {
     "data": {
      "text/html": [
       "<div>\n",
       "<style scoped>\n",
       "    .dataframe tbody tr th:only-of-type {\n",
       "        vertical-align: middle;\n",
       "    }\n",
       "\n",
       "    .dataframe tbody tr th {\n",
       "        vertical-align: top;\n",
       "    }\n",
       "\n",
       "    .dataframe thead th {\n",
       "        text-align: right;\n",
       "    }\n",
       "</style>\n",
       "<table border=\"1\" class=\"dataframe\">\n",
       "  <thead>\n",
       "    <tr style=\"text-align: right;\">\n",
       "      <th></th>\n",
       "      <th>moeda</th>\n",
       "      <th>price</th>\n",
       "      <th>derivativo</th>\n",
       "    </tr>\n",
       "  </thead>\n",
       "  <tbody>\n",
       "    <tr>\n",
       "      <th>2014-01-05</th>\n",
       "      <td>Zona</td>\n",
       "      <td>Zona</td>\n",
       "      <td>Zona</td>\n",
       "    </tr>\n",
       "    <tr>\n",
       "      <th>2014-01-05</th>\n",
       "      <td>libra/real</td>\n",
       "      <td>4.15</td>\n",
       "      <td>LIBFT3</td>\n",
       "    </tr>\n",
       "    <tr>\n",
       "      <th>2014-01-06</th>\n",
       "      <td>Zona</td>\n",
       "      <td>Zona</td>\n",
       "      <td>Zona</td>\n",
       "    </tr>\n",
       "    <tr>\n",
       "      <th>2014-01-06</th>\n",
       "      <td>libra/real</td>\n",
       "      <td>4.23</td>\n",
       "      <td>LIBFT3</td>\n",
       "    </tr>\n",
       "    <tr>\n",
       "      <th>2014-01-07</th>\n",
       "      <td>Zona</td>\n",
       "      <td>Zona</td>\n",
       "      <td>Zona</td>\n",
       "    </tr>\n",
       "    <tr>\n",
       "      <th>2014-01-07</th>\n",
       "      <td>libra/real</td>\n",
       "      <td>4.02</td>\n",
       "      <td>LIBFT3</td>\n",
       "    </tr>\n",
       "    <tr>\n",
       "      <th>2014-01-08</th>\n",
       "      <td>Zona</td>\n",
       "      <td>Zona</td>\n",
       "      <td>Zona</td>\n",
       "    </tr>\n",
       "    <tr>\n",
       "      <th>2014-01-08</th>\n",
       "      <td>libra/real</td>\n",
       "      <td>3.98</td>\n",
       "      <td>LIBFT3</td>\n",
       "    </tr>\n",
       "  </tbody>\n",
       "</table>\n",
       "</div>"
      ],
      "text/plain": [
       "                 moeda price derivativo\n",
       "2014-01-05        Zona  Zona       Zona\n",
       "2014-01-05  libra/real  4.15     LIBFT3\n",
       "2014-01-06        Zona  Zona       Zona\n",
       "2014-01-06  libra/real  4.23     LIBFT3\n",
       "2014-01-07        Zona  Zona       Zona\n",
       "2014-01-07  libra/real  4.02     LIBFT3\n",
       "2014-01-08        Zona  Zona       Zona\n",
       "2014-01-08  libra/real  3.98     LIBFT3"
      ]
     },
     "execution_count": 22,
     "metadata": {},
     "output_type": "execute_result"
    }
   ],
   "source": [
    "# Substituir dados com loc\n",
    "\n",
    "#se um ativo mudar o código de negociação?\n",
    "df_cambio.loc[df_cambio['derivativo'] == 'DOLFT3', 'derivativo'] = 'DOLFT4'\n",
    "\n",
    "df_cambio.loc[df_cambio['derivativo'] == 'DOLFT4'] = 'Zona' #Muda tudo onde tinha DOLFT4 na linha para zona\n",
    "\n",
    "df_cambio"
   ]
  },
  {
   "cell_type": "markdown",
   "id": "8f4c9b43",
   "metadata": {},
   "source": [
    "# Exercícios\n",
    "A partir do DataFrame desenvolvido no exercício 40:\n",
    "- Exercício 47: Selecione a primeira linha inteira e a primeira coluna inteira com loc.\n",
    "- Exercício 48: Selecione o preço da Weg com iat e com at.\n",
    "- Exercício 49: Selecione as duas primeiras linhas e todas as colunas com iloc."
   ]
  },
  {
   "cell_type": "code",
   "execution_count": 32,
   "id": "bb323ab6",
   "metadata": {},
   "outputs": [
    {
     "data": {
      "text/html": [
       "<div>\n",
       "<style scoped>\n",
       "    .dataframe tbody tr th:only-of-type {\n",
       "        vertical-align: middle;\n",
       "    }\n",
       "\n",
       "    .dataframe tbody tr th {\n",
       "        vertical-align: top;\n",
       "    }\n",
       "\n",
       "    .dataframe thead th {\n",
       "        text-align: right;\n",
       "    }\n",
       "</style>\n",
       "<table border=\"1\" class=\"dataframe\">\n",
       "  <thead>\n",
       "    <tr style=\"text-align: right;\">\n",
       "      <th></th>\n",
       "      <th>nomes</th>\n",
       "      <th>precos</th>\n",
       "      <th>preco_sobre_lucro</th>\n",
       "      <th>volume</th>\n",
       "    </tr>\n",
       "    <tr>\n",
       "      <th>tickers</th>\n",
       "      <th></th>\n",
       "      <th></th>\n",
       "      <th></th>\n",
       "      <th></th>\n",
       "    </tr>\n",
       "  </thead>\n",
       "  <tbody>\n",
       "    <tr>\n",
       "      <th>WEGE3</th>\n",
       "      <td>Weg</td>\n",
       "      <td>20</td>\n",
       "      <td>25</td>\n",
       "      <td>5000</td>\n",
       "    </tr>\n",
       "    <tr>\n",
       "      <th>PETR3</th>\n",
       "      <td>Petrobras</td>\n",
       "      <td>30</td>\n",
       "      <td>6</td>\n",
       "      <td>1000</td>\n",
       "    </tr>\n",
       "    <tr>\n",
       "      <th>VALE3</th>\n",
       "      <td>Vale</td>\n",
       "      <td>40</td>\n",
       "      <td>12</td>\n",
       "      <td>4000</td>\n",
       "    </tr>\n",
       "    <tr>\n",
       "      <th>PETR4</th>\n",
       "      <td>Petrobras</td>\n",
       "      <td>12</td>\n",
       "      <td>7</td>\n",
       "      <td>7000</td>\n",
       "    </tr>\n",
       "    <tr>\n",
       "      <th>LREN3</th>\n",
       "      <td>Lojas Renner</td>\n",
       "      <td>35</td>\n",
       "      <td>25</td>\n",
       "      <td>1200</td>\n",
       "    </tr>\n",
       "  </tbody>\n",
       "</table>\n",
       "</div>"
      ],
      "text/plain": [
       "                nomes  precos  preco_sobre_lucro  volume\n",
       "tickers                                                 \n",
       "WEGE3             Weg      20                 25    5000\n",
       "PETR3       Petrobras      30                  6    1000\n",
       "VALE3            Vale      40                 12    4000\n",
       "PETR4       Petrobras      12                  7    7000\n",
       "LREN3    Lojas Renner      35                 25    1200"
      ]
     },
     "execution_count": 32,
     "metadata": {},
     "output_type": "execute_result"
    }
   ],
   "source": [
    "#df_base\n",
    "dados_cotacoes = {\n",
    "    'tickers': [\"WEGE3\", \"PETR3\", \"VALE3\", \"PETR4\",\"LREN3\"],\n",
    "    'cotacoes': [20, 30, 40, 12, 35],\n",
    "    'nomes': [\"Weg\", \"Petrobras\", \"Vale\", \"Petrobras\", \"Lojas Renner\"],\n",
    "    'preco_sobre_lucro': [25,6,12,7,25],\n",
    "    'volume': [5000, 1000, 4000,7000,1200]\n",
    "}\n",
    "\n",
    "df = pd.DataFrame(dados_cotacoes, index = [0,1,2,3,4],\n",
    "                 columns = ['nomes','tickers','cotacoes','preco_sobre_lucro','volume'])\n",
    "\n",
    "df = df.set_index('tickers')\n",
    "df.columns = ['nomes', 'precos', 'preco_sobre_lucro', 'volume']\n",
    "df\n"
   ]
  },
  {
   "cell_type": "code",
   "execution_count": 34,
   "id": "d67732c2",
   "metadata": {},
   "outputs": [
    {
     "data": {
      "text/plain": [
       "nomes                 Weg\n",
       "precos                 20\n",
       "preco_sobre_lucro      25\n",
       "volume               5000\n",
       "Name: WEGE3, dtype: object"
      ]
     },
     "metadata": {},
     "output_type": "display_data"
    },
    {
     "data": {
      "text/plain": [
       "tickers\n",
       "WEGE3             Weg\n",
       "PETR3       Petrobras\n",
       "VALE3            Vale\n",
       "PETR4       Petrobras\n",
       "LREN3    Lojas Renner\n",
       "Name: nomes, dtype: object"
      ]
     },
     "metadata": {},
     "output_type": "display_data"
    }
   ],
   "source": [
    "# Exercício 47\n",
    "\n",
    "df_primeira_linha = df.loc['WEGE3']\n",
    "display(df_primeira_linha)\n",
    "\n",
    "df_primeira_coluna = df.loc[:,'nomes']\n",
    "display(df_primeira_coluna)"
   ]
  },
  {
   "cell_type": "code",
   "execution_count": 27,
   "id": "34f869c1",
   "metadata": {},
   "outputs": [
    {
     "name": "stdout",
     "output_type": "stream",
     "text": [
      "20\n",
      "20\n"
     ]
    }
   ],
   "source": [
    "# Exercício 48\n",
    "\n",
    "print(df.at['WEGE3','precos'])\n",
    "print(df.iat[0,1])"
   ]
  },
  {
   "cell_type": "code",
   "execution_count": 30,
   "id": "1a78da9d",
   "metadata": {},
   "outputs": [
    {
     "name": "stdout",
     "output_type": "stream",
     "text": [
      "             nomes  precos  preco_sobre_lucro  volume\n",
      "tickers                                              \n",
      "WEGE3          Weg      20                 25    5000\n",
      "PETR3    Petrobras      30                  6    1000\n"
     ]
    }
   ],
   "source": [
    "# Exercício 49\n",
    "duas_primeiras_linhas = df.iloc[0:2]\n",
    "print(duas_primeiras_linhas)\n"
   ]
  }
 ],
 "metadata": {
  "kernelspec": {
   "display_name": "Python 3 (ipykernel)",
   "language": "python",
   "name": "python3"
  },
  "language_info": {
   "codemirror_mode": {
    "name": "ipython",
    "version": 3
   },
   "file_extension": ".py",
   "mimetype": "text/x-python",
   "name": "python",
   "nbconvert_exporter": "python",
   "pygments_lexer": "ipython3",
   "version": "3.9.13"
  }
 },
 "nbformat": 4,
 "nbformat_minor": 5
}
