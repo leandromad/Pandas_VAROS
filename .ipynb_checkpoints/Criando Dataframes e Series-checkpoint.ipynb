{
 "cells": [
  {
   "cell_type": "code",
   "execution_count": 1,
   "id": "3df560db",
   "metadata": {},
   "outputs": [],
   "source": [
    "import pandas as pd\n",
    "import numpy as np"
   ]
  },
  {
   "cell_type": "markdown",
   "id": "2bc92048",
   "metadata": {},
   "source": [
    "# Séries"
   ]
  },
  {
   "cell_type": "code",
   "execution_count": 2,
   "id": "e3e5177e",
   "metadata": {},
   "outputs": [
    {
     "name": "stdout",
     "output_type": "stream",
     "text": [
      "0   -2.086804\n",
      "1    1.138594\n",
      "2    1.146111\n",
      "3   -0.148534\n",
      "4   -0.419378\n",
      "dtype: float64\n",
      "A    0.220651\n",
      "B    1.051380\n",
      "C    1.148362\n",
      "D    2.810520\n",
      "E   -0.927868\n",
      "dtype: float64\n",
      "0    Python\n",
      "1       SQL\n",
      "2       VBA\n",
      "dtype: object\n"
     ]
    }
   ],
   "source": [
    "# Argumentos: Listas/Vetores\n",
    "\n",
    "serie_inicial = pd.Series(np.random.randn(5))\n",
    "\n",
    "print(serie_inicial)\n",
    "\n",
    "serie_inicial = pd.Series(np.random.randn(5), index = ['A','B','C','D','E'])\n",
    "serie_lista = pd.Series(['Python','SQL','VBA'])\n",
    "\n",
    "print(serie_inicial)\n",
    "print(serie_lista)"
   ]
  },
  {
   "cell_type": "code",
   "execution_count": 4,
   "id": "45f4d0c0",
   "metadata": {},
   "outputs": [
    {
     "name": "stdout",
     "output_type": "stream",
     "text": [
      "WEGE3    20.20\n",
      "PETR4    19.28\n",
      "VALE3    65.90\n",
      "PETZ3    17.03\n",
      "dtype: float64\n",
      "20.2\n",
      "20.2\n"
     ]
    }
   ],
   "source": [
    "# A partir de dicionários, criando séries temporais\n",
    "\n",
    "dicionario_cotacoes = {'WEGE3': 20.20, 'PETR4': 19.28, 'VALE3': 65.90, 'PETZ3': 17.03}\n",
    "\n",
    "serie_cotacoes = pd.Series(dicionario_cotacoes)\n",
    "\n",
    "print(serie_cotacoes)\n",
    "print(serie_cotacoes['WEGE3'])\n",
    "print(serie_cotacoes[0])"
   ]
  },
  {
   "cell_type": "markdown",
   "id": "709c4043",
   "metadata": {},
   "source": [
    "# DataFrames"
   ]
  },
  {
   "cell_type": "code",
   "execution_count": 7,
   "id": "f9532509",
   "metadata": {},
   "outputs": [
    {
     "data": {
      "text/html": [
       "<div>\n",
       "<style scoped>\n",
       "    .dataframe tbody tr th:only-of-type {\n",
       "        vertical-align: middle;\n",
       "    }\n",
       "\n",
       "    .dataframe tbody tr th {\n",
       "        vertical-align: top;\n",
       "    }\n",
       "\n",
       "    .dataframe thead th {\n",
       "        text-align: right;\n",
       "    }\n",
       "</style>\n",
       "<table border=\"1\" class=\"dataframe\">\n",
       "  <thead>\n",
       "    <tr style=\"text-align: right;\">\n",
       "      <th></th>\n",
       "      <th>empresas</th>\n",
       "      <th>price</th>\n",
       "      <th>volume</th>\n",
       "    </tr>\n",
       "  </thead>\n",
       "  <tbody>\n",
       "    <tr>\n",
       "      <th>2019</th>\n",
       "      <td>Weg</td>\n",
       "      <td>20</td>\n",
       "      <td>1000</td>\n",
       "    </tr>\n",
       "    <tr>\n",
       "      <th>2020</th>\n",
       "      <td>Vale</td>\n",
       "      <td>30</td>\n",
       "      <td>4000</td>\n",
       "    </tr>\n",
       "    <tr>\n",
       "      <th>2021</th>\n",
       "      <td>Petrobras</td>\n",
       "      <td>40</td>\n",
       "      <td>7500</td>\n",
       "    </tr>\n",
       "  </tbody>\n",
       "</table>\n",
       "</div>"
      ],
      "text/plain": [
       "       empresas  price  volume\n",
       "2019        Weg     20    1000\n",
       "2020       Vale     30    4000\n",
       "2021  Petrobras     40    7500"
      ]
     },
     "execution_count": 7,
     "metadata": {},
     "output_type": "execute_result"
    }
   ],
   "source": [
    "# A partir de outras séries ou diciíonarios\n",
    "\n",
    "dicionario_dados = {\n",
    "    \"empresas\": pd.Series(['Weg','Vale','Petrobras'], index = ['2019','2020','2021']),\n",
    "    \"price\": pd.Series([20,30,40], index = ['2019','2020','2021']),\n",
    "    \"volume\": pd.Series([1000, 4000, 7500], index = ['2019','2020','2021'])\n",
    "}\n",
    "\n",
    "dados_diarios = pd.DataFrame(dicionario_dados)\n",
    "\n",
    "dados_diarios"
   ]
  },
  {
   "cell_type": "code",
   "execution_count": 9,
   "id": "9515a285",
   "metadata": {},
   "outputs": [
    {
     "data": {
      "text/html": [
       "<div>\n",
       "<style scoped>\n",
       "    .dataframe tbody tr th:only-of-type {\n",
       "        vertical-align: middle;\n",
       "    }\n",
       "\n",
       "    .dataframe tbody tr th {\n",
       "        vertical-align: top;\n",
       "    }\n",
       "\n",
       "    .dataframe thead th {\n",
       "        text-align: right;\n",
       "    }\n",
       "</style>\n",
       "<table border=\"1\" class=\"dataframe\">\n",
       "  <thead>\n",
       "    <tr style=\"text-align: right;\">\n",
       "      <th></th>\n",
       "      <th>empresas</th>\n",
       "      <th>price</th>\n",
       "      <th>volume</th>\n",
       "    </tr>\n",
       "  </thead>\n",
       "  <tbody>\n",
       "    <tr>\n",
       "      <th>2019</th>\n",
       "      <td>Weg</td>\n",
       "      <td>20</td>\n",
       "      <td>1000</td>\n",
       "    </tr>\n",
       "    <tr>\n",
       "      <th>2020</th>\n",
       "      <td>Vale</td>\n",
       "      <td>30</td>\n",
       "      <td>4000</td>\n",
       "    </tr>\n",
       "    <tr>\n",
       "      <th>2021</th>\n",
       "      <td>Petrobras</td>\n",
       "      <td>40</td>\n",
       "      <td>7500</td>\n",
       "    </tr>\n",
       "  </tbody>\n",
       "</table>\n",
       "</div>"
      ],
      "text/plain": [
       "       empresas  price  volume\n",
       "2019        Weg     20    1000\n",
       "2020       Vale     30    4000\n",
       "2021  Petrobras     40    7500"
      ]
     },
     "execution_count": 9,
     "metadata": {},
     "output_type": "execute_result"
    }
   ],
   "source": [
    "dicionario_dados = {\n",
    "    \"empresas\": ['Weg','Vale','Petrobras'],\n",
    "    \"price\": [20,30,40],\n",
    "    \"volume\": [1000,4000,7500]   \n",
    "}\n",
    "\n",
    "dados_diarios_from_dict = pd.DataFrame(dicionario_dados, index = ['2019','2020','2021'])\n",
    "\n",
    "dados_diarios_from_dict"
   ]
  },
  {
   "cell_type": "code",
   "execution_count": 10,
   "id": "16d6421b",
   "metadata": {},
   "outputs": [
    {
     "data": {
      "text/html": [
       "<div>\n",
       "<style scoped>\n",
       "    .dataframe tbody tr th:only-of-type {\n",
       "        vertical-align: middle;\n",
       "    }\n",
       "\n",
       "    .dataframe tbody tr th {\n",
       "        vertical-align: top;\n",
       "    }\n",
       "\n",
       "    .dataframe thead th {\n",
       "        text-align: right;\n",
       "    }\n",
       "</style>\n",
       "<table border=\"1\" class=\"dataframe\">\n",
       "  <thead>\n",
       "    <tr style=\"text-align: right;\">\n",
       "      <th></th>\n",
       "      <th>volume</th>\n",
       "      <th>price</th>\n",
       "      <th>empresas</th>\n",
       "    </tr>\n",
       "  </thead>\n",
       "  <tbody>\n",
       "    <tr>\n",
       "      <th>2019</th>\n",
       "      <td>1000</td>\n",
       "      <td>20</td>\n",
       "      <td>Weg</td>\n",
       "    </tr>\n",
       "    <tr>\n",
       "      <th>2020</th>\n",
       "      <td>4000</td>\n",
       "      <td>30</td>\n",
       "      <td>Vale</td>\n",
       "    </tr>\n",
       "    <tr>\n",
       "      <th>2021</th>\n",
       "      <td>7500</td>\n",
       "      <td>40</td>\n",
       "      <td>Petrobras</td>\n",
       "    </tr>\n",
       "  </tbody>\n",
       "</table>\n",
       "</div>"
      ],
      "text/plain": [
       "      volume  price   empresas\n",
       "2019    1000     20        Weg\n",
       "2020    4000     30       Vale\n",
       "2021    7500     40  Petrobras"
      ]
     },
     "execution_count": 10,
     "metadata": {},
     "output_type": "execute_result"
    }
   ],
   "source": [
    "# Escolhendo colunas\n",
    "\n",
    "dicionario_dados = {\n",
    "    \"empresas\": ['Weg','Vale','Petrobras'],\n",
    "    \"price\": [20,30,40],\n",
    "    \"volume\": [1000,4000,7500]   \n",
    "}\n",
    "\n",
    "dados_diarios_from_dict = pd.DataFrame(dicionario_dados, index = ['2019','2020','2021'],\n",
    "                                      columns = ['volume','price','empresas'])\n",
    "\n",
    "dados_diarios_from_dict"
   ]
  },
  {
   "cell_type": "code",
   "execution_count": 13,
   "id": "d512bb01",
   "metadata": {},
   "outputs": [
    {
     "data": {
      "text/html": [
       "<div>\n",
       "<style scoped>\n",
       "    .dataframe tbody tr th:only-of-type {\n",
       "        vertical-align: middle;\n",
       "    }\n",
       "\n",
       "    .dataframe tbody tr th {\n",
       "        vertical-align: top;\n",
       "    }\n",
       "\n",
       "    .dataframe thead th {\n",
       "        text-align: right;\n",
       "    }\n",
       "</style>\n",
       "<table border=\"1\" class=\"dataframe\">\n",
       "  <thead>\n",
       "    <tr style=\"text-align: right;\">\n",
       "      <th></th>\n",
       "      <th>cotacao</th>\n",
       "      <th>dia</th>\n",
       "    </tr>\n",
       "  </thead>\n",
       "  <tbody>\n",
       "    <tr>\n",
       "      <th>0</th>\n",
       "      <td>20</td>\n",
       "      <td>2019-12-21</td>\n",
       "    </tr>\n",
       "  </tbody>\n",
       "</table>\n",
       "</div>"
      ],
      "text/plain": [
       "   cotacao         dia\n",
       "0       20  2019-12-21"
      ]
     },
     "execution_count": 13,
     "metadata": {},
     "output_type": "execute_result"
    }
   ],
   "source": [
    "# Cuidado\n",
    "\n",
    "dado = {'cotacao': 20, 'dia': '2019-12-21'}\n",
    "\n",
    "dataframe = pd.DataFrame(dado, index = [0]) #é obrigatório passar um index\n",
    "\n",
    "dataframe"
   ]
  },
  {
   "cell_type": "markdown",
   "id": "65e37e5a",
   "metadata": {},
   "source": [
    "# Exercícios\n",
    "\n",
    "- Exercício 34: Crie uma série de números.\n",
    "- Exercício 35: Crie uma série de cotação randomica (random walk) para os próximos 30 dias de uma ação, partindo do preço inicial definido pelo usuário. Pressuponha que a média de retornos da ação é zero e seu desvio padrão diário (volatilidade) é de 1%.\n",
    "- Exercício 36: Crie um DataFrame com as seguintes informações:\n",
    "    - tickers: \"WEGE3\", \"PETR3\", \"VALE3\", \"PETR4\" e \"LREN3\"\n",
    "    - cotacoes: 20, 30, 40, 12, 35\n",
    "    - nome: \"Weg\", \"Petrobras\", \"Vale\", \"Petrobras\" e \"Lojas Renner\"\n",
    "    - preco_sobre_lucro: 25,6,12,7,25\n",
    "    - volume: 5000, 1000, 4000,7000,1200"
   ]
  },
  {
   "cell_type": "code",
   "execution_count": 16,
   "id": "e5f8250f",
   "metadata": {},
   "outputs": [
    {
     "name": "stdout",
     "output_type": "stream",
     "text": [
      "0    10\n",
      "1    20\n",
      "2    30\n",
      "3    40\n",
      "4    50\n",
      "dtype: int64\n"
     ]
    }
   ],
   "source": [
    "# Exercício 34:\n",
    "\n",
    "numeros = [10, 20, 30, 40, 50]\n",
    "serie = pd.Series(numeros)\n",
    "print(serie)"
   ]
  },
  {
   "cell_type": "code",
   "execution_count": 20,
   "id": "164592ab",
   "metadata": {},
   "outputs": [
    {
     "name": "stdout",
     "output_type": "stream",
     "text": [
      "Qual a cotação inicial da ação? 20\n"
     ]
    },
    {
     "data": {
      "text/plain": [
       "0     20.000000\n",
       "1     19.865639\n",
       "2     19.905864\n",
       "3     19.809937\n",
       "4     19.497999\n",
       "5     19.416495\n",
       "6     19.150713\n",
       "7     19.207643\n",
       "8     19.189694\n",
       "9     19.174463\n",
       "10    19.336487\n",
       "11    19.427056\n",
       "12    19.332207\n",
       "13    19.324381\n",
       "14    19.092329\n",
       "15    18.923884\n",
       "16    18.624917\n",
       "17    18.657934\n",
       "18    19.052773\n",
       "19    18.907145\n",
       "20    18.796944\n",
       "21    19.034502\n",
       "22    19.011425\n",
       "23    18.860906\n",
       "24    18.726234\n",
       "25    19.070734\n",
       "26    18.955110\n",
       "27    18.734060\n",
       "28    18.856965\n",
       "29    18.870512\n",
       "dtype: float64"
      ]
     },
     "execution_count": 20,
     "metadata": {},
     "output_type": "execute_result"
    }
   ],
   "source": [
    "# Exercício 35:\n",
    "\n",
    "preco_inicial = float(input(\"Qual a cotação inicial da ação? \"))\n",
    "\n",
    "lista_precos = [preco_inicial]\n",
    "periodo_dias = 30\n",
    "lista_dias = [0]\n",
    "volatilidade = 0.01\n",
    "\n",
    "for i in range (1, periodo_dias):\n",
    "    \n",
    "    preco_seguinte = lista_precos[-1] * (1 + np.random.normal(0, volatilidade))\n",
    "    \n",
    "    lista_precos.append(preco_seguinte)\n",
    "    lista_dias.append(i)\n",
    "\n",
    "serie_final = pd.Series(lista_precos, index = lista_dias)\n",
    "\n",
    "serie_final\n"
   ]
  },
  {
   "cell_type": "code",
   "execution_count": 24,
   "id": "195aebf2",
   "metadata": {
    "scrolled": true
   },
   "outputs": [
    {
     "data": {
      "text/html": [
       "<div>\n",
       "<style scoped>\n",
       "    .dataframe tbody tr th:only-of-type {\n",
       "        vertical-align: middle;\n",
       "    }\n",
       "\n",
       "    .dataframe tbody tr th {\n",
       "        vertical-align: top;\n",
       "    }\n",
       "\n",
       "    .dataframe thead th {\n",
       "        text-align: right;\n",
       "    }\n",
       "</style>\n",
       "<table border=\"1\" class=\"dataframe\">\n",
       "  <thead>\n",
       "    <tr style=\"text-align: right;\">\n",
       "      <th></th>\n",
       "      <th>nomes</th>\n",
       "      <th>tickers</th>\n",
       "      <th>cotacoes</th>\n",
       "      <th>preco_sobre_lucro</th>\n",
       "      <th>volume</th>\n",
       "    </tr>\n",
       "  </thead>\n",
       "  <tbody>\n",
       "    <tr>\n",
       "      <th>0</th>\n",
       "      <td>Weg</td>\n",
       "      <td>WEGE3</td>\n",
       "      <td>20</td>\n",
       "      <td>25</td>\n",
       "      <td>5000</td>\n",
       "    </tr>\n",
       "    <tr>\n",
       "      <th>1</th>\n",
       "      <td>Petrobras</td>\n",
       "      <td>PETR3</td>\n",
       "      <td>30</td>\n",
       "      <td>6</td>\n",
       "      <td>1000</td>\n",
       "    </tr>\n",
       "    <tr>\n",
       "      <th>2</th>\n",
       "      <td>Vale</td>\n",
       "      <td>VALE3</td>\n",
       "      <td>40</td>\n",
       "      <td>12</td>\n",
       "      <td>4000</td>\n",
       "    </tr>\n",
       "    <tr>\n",
       "      <th>3</th>\n",
       "      <td>Petrobras</td>\n",
       "      <td>PETR4</td>\n",
       "      <td>12</td>\n",
       "      <td>7</td>\n",
       "      <td>7000</td>\n",
       "    </tr>\n",
       "    <tr>\n",
       "      <th>4</th>\n",
       "      <td>Lojas Renner</td>\n",
       "      <td>LREN3</td>\n",
       "      <td>35</td>\n",
       "      <td>25</td>\n",
       "      <td>1200</td>\n",
       "    </tr>\n",
       "  </tbody>\n",
       "</table>\n",
       "</div>"
      ],
      "text/plain": [
       "          nomes tickers  cotacoes  preco_sobre_lucro  volume\n",
       "0           Weg   WEGE3        20                 25    5000\n",
       "1     Petrobras   PETR3        30                  6    1000\n",
       "2          Vale   VALE3        40                 12    4000\n",
       "3     Petrobras   PETR4        12                  7    7000\n",
       "4  Lojas Renner   LREN3        35                 25    1200"
      ]
     },
     "execution_count": 24,
     "metadata": {},
     "output_type": "execute_result"
    }
   ],
   "source": [
    "# Exercício 36:\n",
    "\n",
    "dados_cotacoes = {\n",
    "    'tickers': [\"WEGE3\", \"PETR3\", \"VALE3\", \"PETR4\",\"LREN3\"],\n",
    "    'cotacoes': [20, 30, 40, 12, 35],\n",
    "    'nomes': [\"Weg\", \"Petrobras\", \"Vale\", \"Petrobras\", \"Lojas Renner\"],\n",
    "    'preco_sobre_lucro': [25,6,12,7,25],\n",
    "    'volume': [5000, 1000, 4000,7000,1200]\n",
    "}\n",
    "\n",
    "df = pd.DataFrame(dados_cotacoes, index = [0,1,2,3,4],\n",
    "                 columns = ['nomes','tickers','cotacoes','preco_sobre_lucro','volume'])\n",
    "df"
   ]
  }
 ],
 "metadata": {
  "kernelspec": {
   "display_name": "Python 3 (ipykernel)",
   "language": "python",
   "name": "python3"
  },
  "language_info": {
   "codemirror_mode": {
    "name": "ipython",
    "version": 3
   },
   "file_extension": ".py",
   "mimetype": "text/x-python",
   "name": "python",
   "nbconvert_exporter": "python",
   "pygments_lexer": "ipython3",
   "version": "3.9.13"
  }
 },
 "nbformat": 4,
 "nbformat_minor": 5
}
