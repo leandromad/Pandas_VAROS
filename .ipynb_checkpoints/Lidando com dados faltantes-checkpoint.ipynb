{
 "cells": [
  {
   "cell_type": "code",
   "execution_count": 5,
   "id": "d3bd81d1",
   "metadata": {},
   "outputs": [],
   "source": [
    "import pandas as pd\n",
    "from pandas_datareader import data as pdr\n",
    "import yfinance as yf\n",
    "yf.pdr_override()"
   ]
  },
  {
   "cell_type": "code",
   "execution_count": 13,
   "id": "4bb74a95",
   "metadata": {},
   "outputs": [
    {
     "name": "stdout",
     "output_type": "stream",
     "text": [
      "[*********************100%***********************]  2 of 2 completed\n"
     ]
    },
    {
     "data": {
      "text/html": [
       "<div>\n",
       "<style scoped>\n",
       "    .dataframe tbody tr th:only-of-type {\n",
       "        vertical-align: middle;\n",
       "    }\n",
       "\n",
       "    .dataframe tbody tr th {\n",
       "        vertical-align: top;\n",
       "    }\n",
       "\n",
       "    .dataframe thead th {\n",
       "        text-align: right;\n",
       "    }\n",
       "</style>\n",
       "<table border=\"1\" class=\"dataframe\">\n",
       "  <thead>\n",
       "    <tr style=\"text-align: right;\">\n",
       "      <th></th>\n",
       "      <th>CASH3.SA</th>\n",
       "      <th>VALE3.SA</th>\n",
       "    </tr>\n",
       "    <tr>\n",
       "      <th>Date</th>\n",
       "      <th></th>\n",
       "      <th></th>\n",
       "    </tr>\n",
       "  </thead>\n",
       "  <tbody>\n",
       "    <tr>\n",
       "      <th>2015-01-02</th>\n",
       "      <td>NaN</td>\n",
       "      <td>13.397045</td>\n",
       "    </tr>\n",
       "    <tr>\n",
       "      <th>2015-01-05</th>\n",
       "      <td>NaN</td>\n",
       "      <td>13.195587</td>\n",
       "    </tr>\n",
       "    <tr>\n",
       "      <th>2015-01-06</th>\n",
       "      <td>NaN</td>\n",
       "      <td>13.724416</td>\n",
       "    </tr>\n",
       "    <tr>\n",
       "      <th>2015-01-07</th>\n",
       "      <td>NaN</td>\n",
       "      <td>14.228066</td>\n",
       "    </tr>\n",
       "    <tr>\n",
       "      <th>2015-01-08</th>\n",
       "      <td>NaN</td>\n",
       "      <td>14.379161</td>\n",
       "    </tr>\n",
       "    <tr>\n",
       "      <th>...</th>\n",
       "      <td>...</td>\n",
       "      <td>...</td>\n",
       "    </tr>\n",
       "    <tr>\n",
       "      <th>2022-12-23</th>\n",
       "      <td>1.26</td>\n",
       "      <td>86.320000</td>\n",
       "    </tr>\n",
       "    <tr>\n",
       "      <th>2022-12-26</th>\n",
       "      <td>1.25</td>\n",
       "      <td>87.110001</td>\n",
       "    </tr>\n",
       "    <tr>\n",
       "      <th>2022-12-27</th>\n",
       "      <td>1.17</td>\n",
       "      <td>89.190002</td>\n",
       "    </tr>\n",
       "    <tr>\n",
       "      <th>2022-12-28</th>\n",
       "      <td>1.19</td>\n",
       "      <td>88.989998</td>\n",
       "    </tr>\n",
       "    <tr>\n",
       "      <th>2022-12-29</th>\n",
       "      <td>1.18</td>\n",
       "      <td>88.879997</td>\n",
       "    </tr>\n",
       "  </tbody>\n",
       "</table>\n",
       "<p>1988 rows × 2 columns</p>\n",
       "</div>"
      ],
      "text/plain": [
       "            CASH3.SA   VALE3.SA\n",
       "Date                           \n",
       "2015-01-02       NaN  13.397045\n",
       "2015-01-05       NaN  13.195587\n",
       "2015-01-06       NaN  13.724416\n",
       "2015-01-07       NaN  14.228066\n",
       "2015-01-08       NaN  14.379161\n",
       "...              ...        ...\n",
       "2022-12-23      1.26  86.320000\n",
       "2022-12-26      1.25  87.110001\n",
       "2022-12-27      1.17  89.190002\n",
       "2022-12-28      1.19  88.989998\n",
       "2022-12-29      1.18  88.879997\n",
       "\n",
       "[1988 rows x 2 columns]"
      ]
     },
     "execution_count": 13,
     "metadata": {},
     "output_type": "execute_result"
    }
   ],
   "source": [
    "tickers = [\"CASH3.SA\", 'VALE3.SA']\n",
    "dados_acao = pdr.get_data_yahoo(tickers, start = '2015-01-01', end = '2022-12-31')['Adj Close']\n",
    "dados_acao"
   ]
  },
  {
   "cell_type": "code",
   "execution_count": 14,
   "id": "50bef90f",
   "metadata": {},
   "outputs": [
    {
     "data": {
      "text/html": [
       "<div>\n",
       "<style scoped>\n",
       "    .dataframe tbody tr th:only-of-type {\n",
       "        vertical-align: middle;\n",
       "    }\n",
       "\n",
       "    .dataframe tbody tr th {\n",
       "        vertical-align: top;\n",
       "    }\n",
       "\n",
       "    .dataframe thead th {\n",
       "        text-align: right;\n",
       "    }\n",
       "</style>\n",
       "<table border=\"1\" class=\"dataframe\">\n",
       "  <thead>\n",
       "    <tr style=\"text-align: right;\">\n",
       "      <th></th>\n",
       "      <th>empresa</th>\n",
       "      <th>cotacao</th>\n",
       "      <th>volume</th>\n",
       "    </tr>\n",
       "  </thead>\n",
       "  <tbody>\n",
       "    <tr>\n",
       "      <th>0</th>\n",
       "      <td>Weg</td>\n",
       "      <td>20</td>\n",
       "      <td>3000</td>\n",
       "    </tr>\n",
       "    <tr>\n",
       "      <th>1</th>\n",
       "      <td>Petrobras</td>\n",
       "      <td>50</td>\n",
       "      <td>&lt;NA&gt;</td>\n",
       "    </tr>\n",
       "    <tr>\n",
       "      <th>2</th>\n",
       "      <td>Vale</td>\n",
       "      <td>&lt;NA&gt;</td>\n",
       "      <td>&lt;NA&gt;</td>\n",
       "    </tr>\n",
       "    <tr>\n",
       "      <th>3</th>\n",
       "      <td>&lt;NA&gt;</td>\n",
       "      <td>&lt;NA&gt;</td>\n",
       "      <td>&lt;NA&gt;</td>\n",
       "    </tr>\n",
       "  </tbody>\n",
       "</table>\n",
       "</div>"
      ],
      "text/plain": [
       "     empresa cotacao volume\n",
       "0        Weg      20   3000\n",
       "1  Petrobras      50   <NA>\n",
       "2       Vale    <NA>   <NA>\n",
       "3       <NA>    <NA>   <NA>"
      ]
     },
     "execution_count": 14,
     "metadata": {},
     "output_type": "execute_result"
    }
   ],
   "source": [
    "dados_teste = pd.DataFrame({\n",
    "    'empresa': ['Weg','Petrobras','Vale', pd.NA],\n",
    "    'cotacao': [20, 50, pd.NA, pd.NA],\n",
    "    'volume': [3000, pd.NA, pd.NA, pd.NA]\n",
    "})\n",
    "dados_teste"
   ]
  },
  {
   "cell_type": "code",
   "execution_count": 16,
   "id": "c9425c00",
   "metadata": {},
   "outputs": [
    {
     "data": {
      "text/html": [
       "<div>\n",
       "<style scoped>\n",
       "    .dataframe tbody tr th:only-of-type {\n",
       "        vertical-align: middle;\n",
       "    }\n",
       "\n",
       "    .dataframe tbody tr th {\n",
       "        vertical-align: top;\n",
       "    }\n",
       "\n",
       "    .dataframe thead th {\n",
       "        text-align: right;\n",
       "    }\n",
       "</style>\n",
       "<table border=\"1\" class=\"dataframe\">\n",
       "  <thead>\n",
       "    <tr style=\"text-align: right;\">\n",
       "      <th></th>\n",
       "      <th>CASH3.SA</th>\n",
       "      <th>VALE3.SA</th>\n",
       "    </tr>\n",
       "    <tr>\n",
       "      <th>Date</th>\n",
       "      <th></th>\n",
       "      <th></th>\n",
       "    </tr>\n",
       "  </thead>\n",
       "  <tbody>\n",
       "    <tr>\n",
       "      <th>2020-11-09</th>\n",
       "      <td>1.579895</td>\n",
       "      <td>49.010887</td>\n",
       "    </tr>\n",
       "    <tr>\n",
       "      <th>2020-11-10</th>\n",
       "      <td>1.631504</td>\n",
       "      <td>48.987617</td>\n",
       "    </tr>\n",
       "    <tr>\n",
       "      <th>2020-11-11</th>\n",
       "      <td>1.639828</td>\n",
       "      <td>49.328888</td>\n",
       "    </tr>\n",
       "    <tr>\n",
       "      <th>2020-11-12</th>\n",
       "      <td>1.589884</td>\n",
       "      <td>48.607571</td>\n",
       "    </tr>\n",
       "    <tr>\n",
       "      <th>2020-11-13</th>\n",
       "      <td>1.623181</td>\n",
       "      <td>49.057423</td>\n",
       "    </tr>\n",
       "    <tr>\n",
       "      <th>...</th>\n",
       "      <td>...</td>\n",
       "      <td>...</td>\n",
       "    </tr>\n",
       "    <tr>\n",
       "      <th>2022-12-23</th>\n",
       "      <td>1.260000</td>\n",
       "      <td>86.320000</td>\n",
       "    </tr>\n",
       "    <tr>\n",
       "      <th>2022-12-26</th>\n",
       "      <td>1.250000</td>\n",
       "      <td>87.110001</td>\n",
       "    </tr>\n",
       "    <tr>\n",
       "      <th>2022-12-27</th>\n",
       "      <td>1.170000</td>\n",
       "      <td>89.190002</td>\n",
       "    </tr>\n",
       "    <tr>\n",
       "      <th>2022-12-28</th>\n",
       "      <td>1.190000</td>\n",
       "      <td>88.989998</td>\n",
       "    </tr>\n",
       "    <tr>\n",
       "      <th>2022-12-29</th>\n",
       "      <td>1.180000</td>\n",
       "      <td>88.879997</td>\n",
       "    </tr>\n",
       "  </tbody>\n",
       "</table>\n",
       "<p>532 rows × 2 columns</p>\n",
       "</div>"
      ],
      "text/plain": [
       "            CASH3.SA   VALE3.SA\n",
       "Date                           \n",
       "2020-11-09  1.579895  49.010887\n",
       "2020-11-10  1.631504  48.987617\n",
       "2020-11-11  1.639828  49.328888\n",
       "2020-11-12  1.589884  48.607571\n",
       "2020-11-13  1.623181  49.057423\n",
       "...              ...        ...\n",
       "2022-12-23  1.260000  86.320000\n",
       "2022-12-26  1.250000  87.110001\n",
       "2022-12-27  1.170000  89.190002\n",
       "2022-12-28  1.190000  88.989998\n",
       "2022-12-29  1.180000  88.879997\n",
       "\n",
       "[532 rows x 2 columns]"
      ]
     },
     "execution_count": 16,
     "metadata": {},
     "output_type": "execute_result"
    }
   ],
   "source": [
    "# Tirando dados ausentes\n",
    "dados_acao = dados_acao.dropna()\n",
    "dados_acao"
   ]
  },
  {
   "cell_type": "code",
   "execution_count": 18,
   "id": "d2c15fc8",
   "metadata": {},
   "outputs": [
    {
     "name": "stdout",
     "output_type": "stream",
     "text": [
      "  empresa cotacao volume\n",
      "0     Weg      20   3000\n",
      "     empresa cotacao volume\n",
      "0        Weg      20   3000\n",
      "1  Petrobras      50   <NA>\n",
      "2       Vale    <NA>   <NA>\n",
      "     empresa cotacao volume\n",
      "0        Weg      20   3000\n",
      "1  Petrobras      50   <NA>\n"
     ]
    }
   ],
   "source": [
    "# Qualquer dados ausentes\n",
    "\n",
    "print(dados_teste.dropna())\n",
    "\n",
    "#todas as colunas tem que ser NA\n",
    "print(dados_teste.dropna(how = 'all'))\n",
    "\n",
    "#duas colunas como NA\n",
    "\n",
    "print(dados_teste.dropna(subset = ['empresa', 'cotacao']))"
   ]
  },
  {
   "cell_type": "code",
   "execution_count": 19,
   "id": "49c5fb70",
   "metadata": {},
   "outputs": [
    {
     "name": "stdout",
     "output_type": "stream",
     "text": [
      "     empresa  cotacao  volume\n",
      "0        Weg       20    3000\n",
      "1  Petrobras       50       0\n",
      "2       Vale        0       0\n",
      "3          0        0       0\n"
     ]
    },
    {
     "data": {
      "text/html": [
       "<div>\n",
       "<style scoped>\n",
       "    .dataframe tbody tr th:only-of-type {\n",
       "        vertical-align: middle;\n",
       "    }\n",
       "\n",
       "    .dataframe tbody tr th {\n",
       "        vertical-align: top;\n",
       "    }\n",
       "\n",
       "    .dataframe thead th {\n",
       "        text-align: right;\n",
       "    }\n",
       "</style>\n",
       "<table border=\"1\" class=\"dataframe\">\n",
       "  <thead>\n",
       "    <tr style=\"text-align: right;\">\n",
       "      <th></th>\n",
       "      <th>empresa</th>\n",
       "      <th>cotacao</th>\n",
       "      <th>volume</th>\n",
       "    </tr>\n",
       "  </thead>\n",
       "  <tbody>\n",
       "    <tr>\n",
       "      <th>0</th>\n",
       "      <td>Weg</td>\n",
       "      <td>20</td>\n",
       "      <td>3000</td>\n",
       "    </tr>\n",
       "    <tr>\n",
       "      <th>1</th>\n",
       "      <td>Petrobras</td>\n",
       "      <td>50</td>\n",
       "      <td>-10</td>\n",
       "    </tr>\n",
       "    <tr>\n",
       "      <th>2</th>\n",
       "      <td>Vale</td>\n",
       "      <td>0</td>\n",
       "      <td>-10</td>\n",
       "    </tr>\n",
       "    <tr>\n",
       "      <th>3</th>\n",
       "      <td>Nenhuma</td>\n",
       "      <td>0</td>\n",
       "      <td>-10</td>\n",
       "    </tr>\n",
       "  </tbody>\n",
       "</table>\n",
       "</div>"
      ],
      "text/plain": [
       "     empresa  cotacao  volume\n",
       "0        Weg       20    3000\n",
       "1  Petrobras       50     -10\n",
       "2       Vale        0     -10\n",
       "3    Nenhuma        0     -10"
      ]
     },
     "execution_count": 19,
     "metadata": {},
     "output_type": "execute_result"
    }
   ],
   "source": [
    "# Preenchendo dados ausentes\n",
    "\n",
    "print(dados_teste.fillna(0))\n",
    "\n",
    "dados_teste.fillna({'empresa': 'Nenhuma',\n",
    "                   'cotacao': 0,\n",
    "                   'volume': -10})"
   ]
  },
  {
   "cell_type": "code",
   "execution_count": 20,
   "id": "54f6753c",
   "metadata": {},
   "outputs": [
    {
     "name": "stderr",
     "output_type": "stream",
     "text": [
      "C:\\Users\\Pichau\\AppData\\Local\\Temp\\ipykernel_14324\\3481745678.py:2: UserWarning: Parsing dates in DD/MM/YYYY format when dayfirst=False (the default) was specified. This may lead to inconsistently parsed dates! Specify a format to ensure consistent parsing.\n",
      "  index = pd.date_range('30/06/2022', freq = 'M', periods = 8))\n"
     ]
    },
    {
     "data": {
      "text/plain": [
       "2022-06-30      20\n",
       "2022-07-31    <NA>\n",
       "2022-08-31    <NA>\n",
       "2022-09-30    <NA>\n",
       "2022-10-31      23\n",
       "2022-11-30      24\n",
       "2022-12-31    <NA>\n",
       "2023-01-31      25\n",
       "Freq: M, dtype: object"
      ]
     },
     "execution_count": 20,
     "metadata": {},
     "output_type": "execute_result"
    }
   ],
   "source": [
    "cotacoes = pd.Series([20, pd.NA, pd.NA, pd.NA, 23, 24, pd.NA, 25],\n",
    "                    index = pd.date_range('30/06/2022', freq = 'M', periods = 8))\n",
    "\n",
    "cotacoes"
   ]
  },
  {
   "cell_type": "code",
   "execution_count": 21,
   "id": "96d4b029",
   "metadata": {},
   "outputs": [
    {
     "data": {
      "text/plain": [
       "2022-06-30    20\n",
       "2022-07-31    20\n",
       "2022-08-31    20\n",
       "2022-09-30    20\n",
       "2022-10-31    23\n",
       "2022-11-30    24\n",
       "2022-12-31    24\n",
       "2023-01-31    25\n",
       "Freq: M, dtype: int64"
      ]
     },
     "execution_count": 21,
     "metadata": {},
     "output_type": "execute_result"
    }
   ],
   "source": [
    "cotacoes.fillna(method = 'ffill')"
   ]
  },
  {
   "cell_type": "code",
   "execution_count": 22,
   "id": "cae23f62",
   "metadata": {},
   "outputs": [
    {
     "data": {
      "text/plain": [
       "2022-06-30      20\n",
       "2022-07-31      20\n",
       "2022-08-31      20\n",
       "2022-09-30    <NA>\n",
       "2022-10-31      23\n",
       "2022-11-30      24\n",
       "2022-12-31      24\n",
       "2023-01-31      25\n",
       "Freq: M, dtype: object"
      ]
     },
     "execution_count": 22,
     "metadata": {},
     "output_type": "execute_result"
    }
   ],
   "source": [
    "cotacoes.fillna(method = 'ffill', limit = 2)"
   ]
  },
  {
   "cell_type": "code",
   "execution_count": 23,
   "id": "c47a0826",
   "metadata": {},
   "outputs": [
    {
     "data": {
      "text/plain": [
       "2022-06-30    20.0\n",
       "2022-07-31    23.0\n",
       "2022-08-31    23.0\n",
       "2022-09-30    23.0\n",
       "2022-10-31    23.0\n",
       "2022-11-30    24.0\n",
       "2022-12-31    23.0\n",
       "2023-01-31    25.0\n",
       "Freq: M, dtype: float64"
      ]
     },
     "execution_count": 23,
     "metadata": {},
     "output_type": "execute_result"
    }
   ],
   "source": [
    "cotacoes.fillna(cotacoes.mean())"
   ]
  },
  {
   "cell_type": "markdown",
   "id": "c98634bb",
   "metadata": {},
   "source": [
    "# Exercícios\n",
    "- Exercício 64: Puxe dados de cotação ajustadas das empresas PETR4.SA, LJQQ3.SA e CASH3.SA desde 2015. Crie um dataframe que não possua nenhum dado faltante em nenhuma coluna e,  em seguida um dataframe que filtre NA na coluna LJQQ3 mas aceite NA em CASH3.\n",
    "- Exercício 65: Leia a planilha Mundo16dados_euca3.xlsx na pasta dados com as cotações reais de EUCA3 desde 25/05/2022 até 22/09/2022. Preencha as cotações faltantes com o métodos ffill limitado a dois dias de preenchimento."
   ]
  },
  {
   "cell_type": "code",
   "execution_count": 34,
   "id": "4ef2ba45",
   "metadata": {},
   "outputs": [
    {
     "name": "stdout",
     "output_type": "stream",
     "text": [
      "[*********************100%***********************]  3 of 3 completed\n",
      "            CASH3.SA   LJQQ3.SA   PETR4.SA\n",
      "Date                                      \n",
      "2020-11-09  1.579895  14.748902  10.264723\n",
      "2020-11-10  1.631504  14.011457  10.962970\n",
      "2020-11-11  1.639828  14.650577  10.867970\n",
      "2020-11-12  1.589884  14.208110  10.407223\n",
      "2020-11-13  1.623181  14.660410  10.749219\n",
      "...              ...        ...        ...\n",
      "2023-01-04  1.120000   3.940000  23.049999\n",
      "2023-01-05  1.140000   4.060000  23.879999\n",
      "2023-01-06  1.150000   4.200000  23.740000\n",
      "2023-01-09  1.150000   4.150000  23.870001\n",
      "2023-01-10  1.160000   4.260000  23.540001\n",
      "\n",
      "[539 rows x 3 columns]\n"
     ]
    },
    {
     "data": {
      "text/html": [
       "<div>\n",
       "<style scoped>\n",
       "    .dataframe tbody tr th:only-of-type {\n",
       "        vertical-align: middle;\n",
       "    }\n",
       "\n",
       "    .dataframe tbody tr th {\n",
       "        vertical-align: top;\n",
       "    }\n",
       "\n",
       "    .dataframe thead th {\n",
       "        text-align: right;\n",
       "    }\n",
       "</style>\n",
       "<table border=\"1\" class=\"dataframe\">\n",
       "  <thead>\n",
       "    <tr style=\"text-align: right;\">\n",
       "      <th></th>\n",
       "      <th>CASH3.SA</th>\n",
       "      <th>LJQQ3.SA</th>\n",
       "      <th>PETR4.SA</th>\n",
       "    </tr>\n",
       "    <tr>\n",
       "      <th>Date</th>\n",
       "      <th></th>\n",
       "      <th></th>\n",
       "      <th></th>\n",
       "    </tr>\n",
       "  </thead>\n",
       "  <tbody>\n",
       "    <tr>\n",
       "      <th>2020-08-10</th>\n",
       "      <td>NaN</td>\n",
       "      <td>12.575898</td>\n",
       "      <td>11.138721</td>\n",
       "    </tr>\n",
       "    <tr>\n",
       "      <th>2020-08-11</th>\n",
       "      <td>NaN</td>\n",
       "      <td>12.536568</td>\n",
       "      <td>10.962970</td>\n",
       "    </tr>\n",
       "    <tr>\n",
       "      <th>2020-08-12</th>\n",
       "      <td>NaN</td>\n",
       "      <td>12.438241</td>\n",
       "      <td>11.152969</td>\n",
       "    </tr>\n",
       "    <tr>\n",
       "      <th>2020-08-13</th>\n",
       "      <td>NaN</td>\n",
       "      <td>12.684056</td>\n",
       "      <td>10.848971</td>\n",
       "    </tr>\n",
       "    <tr>\n",
       "      <th>2020-08-14</th>\n",
       "      <td>NaN</td>\n",
       "      <td>13.274013</td>\n",
       "      <td>10.768221</td>\n",
       "    </tr>\n",
       "    <tr>\n",
       "      <th>...</th>\n",
       "      <td>...</td>\n",
       "      <td>...</td>\n",
       "      <td>...</td>\n",
       "    </tr>\n",
       "    <tr>\n",
       "      <th>2023-01-04</th>\n",
       "      <td>1.12</td>\n",
       "      <td>3.940000</td>\n",
       "      <td>23.049999</td>\n",
       "    </tr>\n",
       "    <tr>\n",
       "      <th>2023-01-05</th>\n",
       "      <td>1.14</td>\n",
       "      <td>4.060000</td>\n",
       "      <td>23.879999</td>\n",
       "    </tr>\n",
       "    <tr>\n",
       "      <th>2023-01-06</th>\n",
       "      <td>1.15</td>\n",
       "      <td>4.200000</td>\n",
       "      <td>23.740000</td>\n",
       "    </tr>\n",
       "    <tr>\n",
       "      <th>2023-01-09</th>\n",
       "      <td>1.15</td>\n",
       "      <td>4.150000</td>\n",
       "      <td>23.870001</td>\n",
       "    </tr>\n",
       "    <tr>\n",
       "      <th>2023-01-10</th>\n",
       "      <td>1.16</td>\n",
       "      <td>4.260000</td>\n",
       "      <td>23.540001</td>\n",
       "    </tr>\n",
       "  </tbody>\n",
       "</table>\n",
       "<p>601 rows × 3 columns</p>\n",
       "</div>"
      ],
      "text/plain": [
       "            CASH3.SA   LJQQ3.SA   PETR4.SA\n",
       "Date                                      \n",
       "2020-08-10       NaN  12.575898  11.138721\n",
       "2020-08-11       NaN  12.536568  10.962970\n",
       "2020-08-12       NaN  12.438241  11.152969\n",
       "2020-08-13       NaN  12.684056  10.848971\n",
       "2020-08-14       NaN  13.274013  10.768221\n",
       "...              ...        ...        ...\n",
       "2023-01-04      1.12   3.940000  23.049999\n",
       "2023-01-05      1.14   4.060000  23.879999\n",
       "2023-01-06      1.15   4.200000  23.740000\n",
       "2023-01-09      1.15   4.150000  23.870001\n",
       "2023-01-10      1.16   4.260000  23.540001\n",
       "\n",
       "[601 rows x 3 columns]"
      ]
     },
     "execution_count": 34,
     "metadata": {},
     "output_type": "execute_result"
    }
   ],
   "source": [
    "# Exercício 64\n",
    "\n",
    "from datetime import datetime\n",
    "tickers = ['PETR4.SA', 'LJQQ3.SA', 'CASH3.SA']\n",
    "df = pdr.get_data_yahoo(tickers, start = '2015-01-01', end = datetime.now())['Adj Close']\n",
    "df_sem_na = df.dropna()\n",
    "print(df_sem_na)\n",
    "\n",
    "df_sem_na_ljqq3 = df.dropna(subset = 'LJQQ3.SA')\n",
    "df_sem_na_ljqq3"
   ]
  },
  {
   "cell_type": "code",
   "execution_count": 43,
   "id": "e57e9a6d",
   "metadata": {},
   "outputs": [
    {
     "name": "stdout",
     "output_type": "stream",
     "text": [
      "         Data  EUCA3\n",
      "0  2022-09-22    NaN\n",
      "1  2022-09-21  12.50\n",
      "2  2022-09-20  12.78\n",
      "3  2022-09-19  12.78\n",
      "4  2022-09-16  12.78\n",
      "..        ...    ...\n",
      "80 2022-05-31  15.64\n",
      "81 2022-05-30  15.68\n",
      "82 2022-05-27  15.77\n",
      "83 2022-05-26  15.43\n",
      "84 2022-05-25  15.28\n",
      "\n",
      "[85 rows x 2 columns]\n"
     ]
    }
   ],
   "source": [
    "# Exercício 65\n",
    "df = pd.read_excel('dados\\Mundo16dados_euca3.xlsx', na_values = 'nd')\n",
    "df_tratado = df.fillna(method = 'ffill', limit = 2)\n",
    "print(df_tratado)\n"
   ]
  },
  {
   "cell_type": "code",
   "execution_count": null,
   "id": "8603fb3a",
   "metadata": {},
   "outputs": [],
   "source": []
  }
 ],
 "metadata": {
  "kernelspec": {
   "display_name": "Python 3 (ipykernel)",
   "language": "python",
   "name": "python3"
  },
  "language_info": {
   "codemirror_mode": {
    "name": "ipython",
    "version": 3
   },
   "file_extension": ".py",
   "mimetype": "text/x-python",
   "name": "python",
   "nbconvert_exporter": "python",
   "pygments_lexer": "ipython3",
   "version": "3.9.13"
  }
 },
 "nbformat": 4,
 "nbformat_minor": 5
}
