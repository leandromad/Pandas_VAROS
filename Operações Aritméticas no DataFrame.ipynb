{
 "cells": [
  {
   "cell_type": "code",
   "execution_count": 2,
   "id": "5466ea54",
   "metadata": {},
   "outputs": [],
   "source": [
    "import pandas as pd\n",
    "import numpy as np"
   ]
  },
  {
   "cell_type": "code",
   "execution_count": 7,
   "id": "d532230e",
   "metadata": {},
   "outputs": [],
   "source": [
    "def gerador_serie_historica(valor_inicial, volatilidade, periodos, dia_inicial, frequencia = 'M'):\n",
    "    \n",
    "    vetor = [valor_inicial]\n",
    "    \n",
    "    for i in range(periodos - 1):\n",
    "        \n",
    "        preco = vetor[i] * ( 1 + np.random.normal(0, volatilidade))\n",
    "        \n",
    "        vetor.append(preco)\n",
    "        \n",
    "    serie = pd.Series(vetor, index = pd.date_range(dia_inicial, periods = periodos, freq = frequencia))\n",
    "    \n",
    "    return serie"
   ]
  },
  {
   "cell_type": "code",
   "execution_count": 8,
   "id": "f2574239",
   "metadata": {},
   "outputs": [
    {
     "data": {
      "text/plain": [
       "2022-02-28    20.000000\n",
       "2022-03-31    22.753194\n",
       "2022-04-30    22.274946\n",
       "2022-05-31    24.844408\n",
       "2022-06-30    24.960581\n",
       "Freq: M, dtype: float64"
      ]
     },
     "execution_count": 8,
     "metadata": {},
     "output_type": "execute_result"
    }
   ],
   "source": [
    "serie_euro = gerador_serie_historica(5, 0.01, 5, '2022-01-01')\n",
    "serie_cotacoes = gerador_serie_historica(20, 0.05, 5,'2022-02-01')\n",
    "serie_cotacoes"
   ]
  },
  {
   "cell_type": "code",
   "execution_count": 9,
   "id": "9a6f121d",
   "metadata": {},
   "outputs": [
    {
     "data": {
      "text/plain": [
       "2022-01-31         NaN\n",
       "2022-02-28    3.993336\n",
       "2022-03-31    4.589386\n",
       "2022-04-30    4.536252\n",
       "2022-05-31    5.035568\n",
       "2022-06-30         NaN\n",
       "Freq: M, dtype: float64"
      ]
     },
     "execution_count": 9,
     "metadata": {},
     "output_type": "execute_result"
    }
   ],
   "source": [
    "# As operações são feitas através dos indices!\n",
    "\n",
    "serie_cotacoes_em_euro = serie_cotacoes / serie_euro\n",
    "serie_cotacoes_em_euro"
   ]
  },
  {
   "cell_type": "code",
   "execution_count": 11,
   "id": "3939604f",
   "metadata": {},
   "outputs": [
    {
     "data": {
      "text/html": [
       "<div>\n",
       "<style scoped>\n",
       "    .dataframe tbody tr th:only-of-type {\n",
       "        vertical-align: middle;\n",
       "    }\n",
       "\n",
       "    .dataframe tbody tr th {\n",
       "        vertical-align: top;\n",
       "    }\n",
       "\n",
       "    .dataframe thead th {\n",
       "        text-align: right;\n",
       "    }\n",
       "</style>\n",
       "<table border=\"1\" class=\"dataframe\">\n",
       "  <thead>\n",
       "    <tr style=\"text-align: right;\">\n",
       "      <th></th>\n",
       "      <th>cotacao</th>\n",
       "      <th>lucro_por_acao</th>\n",
       "    </tr>\n",
       "  </thead>\n",
       "  <tbody>\n",
       "    <tr>\n",
       "      <th>2022-01-31</th>\n",
       "      <td>20.000000</td>\n",
       "      <td>2.000000</td>\n",
       "    </tr>\n",
       "    <tr>\n",
       "      <th>2022-02-28</th>\n",
       "      <td>19.251850</td>\n",
       "      <td>1.461216</td>\n",
       "    </tr>\n",
       "    <tr>\n",
       "      <th>2022-03-31</th>\n",
       "      <td>19.556118</td>\n",
       "      <td>2.223144</td>\n",
       "    </tr>\n",
       "    <tr>\n",
       "      <th>2022-04-30</th>\n",
       "      <td>18.619748</td>\n",
       "      <td>2.185554</td>\n",
       "    </tr>\n",
       "    <tr>\n",
       "      <th>2022-05-31</th>\n",
       "      <td>19.471419</td>\n",
       "      <td>2.015592</td>\n",
       "    </tr>\n",
       "  </tbody>\n",
       "</table>\n",
       "</div>"
      ],
      "text/plain": [
       "              cotacao  lucro_por_acao\n",
       "2022-01-31  20.000000        2.000000\n",
       "2022-02-28  19.251850        1.461216\n",
       "2022-03-31  19.556118        2.223144\n",
       "2022-04-30  18.619748        2.185554\n",
       "2022-05-31  19.471419        2.015592"
      ]
     },
     "execution_count": 11,
     "metadata": {},
     "output_type": "execute_result"
    }
   ],
   "source": [
    "serie_lucro = gerador_serie_historica(2, 0.5, 5, '2022-01-01')\n",
    "serie_cotacoes = gerador_serie_historica(20, 0.05, 5, '2022-01-01')\n",
    "\n",
    "df = pd.DataFrame({\n",
    "    'cotacao': serie_cotacoes,\n",
    "    'lucro_por_acao': serie_lucro\n",
    "})\n",
    "\n",
    "df"
   ]
  },
  {
   "cell_type": "code",
   "execution_count": 12,
   "id": "6cd8f8f2",
   "metadata": {},
   "outputs": [
    {
     "data": {
      "text/html": [
       "<div>\n",
       "<style scoped>\n",
       "    .dataframe tbody tr th:only-of-type {\n",
       "        vertical-align: middle;\n",
       "    }\n",
       "\n",
       "    .dataframe tbody tr th {\n",
       "        vertical-align: top;\n",
       "    }\n",
       "\n",
       "    .dataframe thead th {\n",
       "        text-align: right;\n",
       "    }\n",
       "</style>\n",
       "<table border=\"1\" class=\"dataframe\">\n",
       "  <thead>\n",
       "    <tr style=\"text-align: right;\">\n",
       "      <th></th>\n",
       "      <th>cotacao</th>\n",
       "      <th>lucro_por_acao</th>\n",
       "      <th>P/L</th>\n",
       "    </tr>\n",
       "  </thead>\n",
       "  <tbody>\n",
       "    <tr>\n",
       "      <th>2022-01-31</th>\n",
       "      <td>20.000000</td>\n",
       "      <td>2.000000</td>\n",
       "      <td>10.000000</td>\n",
       "    </tr>\n",
       "    <tr>\n",
       "      <th>2022-02-28</th>\n",
       "      <td>19.251850</td>\n",
       "      <td>1.461216</td>\n",
       "      <td>13.175229</td>\n",
       "    </tr>\n",
       "    <tr>\n",
       "      <th>2022-03-31</th>\n",
       "      <td>19.556118</td>\n",
       "      <td>2.223144</td>\n",
       "      <td>8.796604</td>\n",
       "    </tr>\n",
       "    <tr>\n",
       "      <th>2022-04-30</th>\n",
       "      <td>18.619748</td>\n",
       "      <td>2.185554</td>\n",
       "      <td>8.519465</td>\n",
       "    </tr>\n",
       "    <tr>\n",
       "      <th>2022-05-31</th>\n",
       "      <td>19.471419</td>\n",
       "      <td>2.015592</td>\n",
       "      <td>9.660396</td>\n",
       "    </tr>\n",
       "  </tbody>\n",
       "</table>\n",
       "</div>"
      ],
      "text/plain": [
       "              cotacao  lucro_por_acao        P/L\n",
       "2022-01-31  20.000000        2.000000  10.000000\n",
       "2022-02-28  19.251850        1.461216  13.175229\n",
       "2022-03-31  19.556118        2.223144   8.796604\n",
       "2022-04-30  18.619748        2.185554   8.519465\n",
       "2022-05-31  19.471419        2.015592   9.660396"
      ]
     },
     "execution_count": 12,
     "metadata": {},
     "output_type": "execute_result"
    }
   ],
   "source": [
    "# Criando coluna P/L\n",
    "\n",
    "df['P/L'] = df['cotacao']/df['lucro_por_acao']\n",
    "\n",
    "df"
   ]
  },
  {
   "cell_type": "code",
   "execution_count": 14,
   "id": "5eb57e9d",
   "metadata": {},
   "outputs": [
    {
     "name": "stdout",
     "output_type": "stream",
     "text": [
      "2022-01-31    22.000000\n",
      "2022-02-28    20.713065\n",
      "2022-03-31    21.779262\n",
      "2022-04-30    20.805302\n",
      "2022-05-31    21.487011\n",
      "Freq: M, dtype: float64\n",
      "2022-01-31    18.000000\n",
      "2022-02-28    17.790634\n",
      "2022-03-31    17.332974\n",
      "2022-04-30    16.434194\n",
      "2022-05-31    17.455827\n",
      "Freq: M, dtype: float64\n",
      "2022-01-31    400.000000\n",
      "2022-02-28     75.316672\n",
      "2022-03-31    742.518668\n",
      "2022-04-30    596.480108\n",
      "2022-05-31    397.099782\n",
      "Freq: M, dtype: float64\n"
     ]
    }
   ],
   "source": [
    "# pode fazer qualquer operação\n",
    "\n",
    "print(df['cotacao'] + df['lucro_por_acao'])\n",
    "\n",
    "print(df['cotacao'] - df['lucro_por_acao'])\n",
    "\n",
    "print(df['cotacao'] ** df['lucro_por_acao'])"
   ]
  },
  {
   "cell_type": "code",
   "execution_count": 17,
   "id": "cd2c5365",
   "metadata": {},
   "outputs": [
    {
     "name": "stdout",
     "output_type": "stream",
     "text": [
      "2022-03-31     20000.000000\n",
      "2022-06-30    -25618.958814\n",
      "2022-09-30     88473.626537\n",
      "2022-12-31   -124323.005120\n",
      "Freq: Q-DEC, dtype: float64\n"
     ]
    },
    {
     "data": {
      "text/plain": [
       "-41468.3373962098"
      ]
     },
     "execution_count": 17,
     "metadata": {},
     "output_type": "execute_result"
    }
   ],
   "source": [
    "# Operações dentro de uma mesma coluna\n",
    "\n",
    "#somar dados de uma coluna\n",
    "\n",
    "serie_lucro_trimestral = gerador_serie_historica(20000,2,4,'2022-01-01', frequencia = 'Q')\n",
    "\n",
    "print(serie_lucro_trimestral)\n",
    "\n",
    "lucro_anual = serie_lucro_trimestral.sum()\n",
    "\n",
    "lucro_anual"
   ]
  },
  {
   "cell_type": "code",
   "execution_count": 19,
   "id": "58124bf9",
   "metadata": {},
   "outputs": [
    {
     "name": "stdout",
     "output_type": "stream",
     "text": [
      "2022-03-31     20000.000000\n",
      "2022-06-30     36897.357694\n",
      "2022-09-30    -57348.064552\n",
      "2022-12-31   -278979.577105\n",
      "Freq: Q-DEC, dtype: float64\n"
     ]
    },
    {
     "data": {
      "text/plain": [
       "2022-03-31     20000.000000\n",
       "2022-06-30     56897.357694\n",
       "2022-09-30      -450.706858\n",
       "2022-12-31   -279430.283963\n",
       "Freq: Q-DEC, dtype: float64"
      ]
     },
     "execution_count": 19,
     "metadata": {},
     "output_type": "execute_result"
    }
   ],
   "source": [
    "# Acumular dados de uma coluna\n",
    "\n",
    "serie_lucro_trimestral = gerador_serie_historica(20000, 2, 4, '2022-01-01', frequencia='Q')\n",
    "\n",
    "print(serie_lucro_trimestral)\n",
    "\n",
    "crescimento_lucros = serie_lucro_trimestral.cumsum()\n",
    "\n",
    "crescimento_lucros"
   ]
  },
  {
   "cell_type": "code",
   "execution_count": 20,
   "id": "9faaf378",
   "metadata": {},
   "outputs": [
    {
     "data": {
      "text/plain": [
       "67578.55179098221"
      ]
     },
     "execution_count": 20,
     "metadata": {},
     "output_type": "execute_result"
    }
   ],
   "source": [
    "#maior e menor dado de lucro no trimestre\n",
    "\n",
    "serie_lucro_trimestral = gerador_serie_historica(20000, 2, 4, '2022-01-01', frequencia='Q')\n",
    "\n",
    "lucro_max = serie_lucro_trimestral.max()\n",
    "\n",
    "lucro_min = serie_lucro_trimestral.min()\n",
    "\n",
    "lucro_max"
   ]
  },
  {
   "cell_type": "markdown",
   "id": "2e22d383",
   "metadata": {},
   "source": [
    "# Exercícios\n",
    "\n",
    "No dataframe base trabalhado nas aulas anteriores:\n",
    "\n",
    "- Exercício 50: Crie uma nova coluna chamada 'lucro_por_acao' e calcule o lucro por ação baseado nas informações de PL e preço. Obs: LPA = P/PL\n",
    "- Exercício 51: Assuma a cotação do dólar como 5.25 e crie a coluna de cotações dolarizadas na tabela.\n",
    "- Exercício 52: Encontre qual o volume total negociado por todas as ações.\n"
   ]
  }
 ],
 "metadata": {
  "kernelspec": {
   "display_name": "Python 3 (ipykernel)",
   "language": "python",
   "name": "python3"
  },
  "language_info": {
   "codemirror_mode": {
    "name": "ipython",
    "version": 3
   },
   "file_extension": ".py",
   "mimetype": "text/x-python",
   "name": "python",
   "nbconvert_exporter": "python",
   "pygments_lexer": "ipython3",
   "version": "3.9.13"
  }
 },
 "nbformat": 4,
 "nbformat_minor": 5
}
