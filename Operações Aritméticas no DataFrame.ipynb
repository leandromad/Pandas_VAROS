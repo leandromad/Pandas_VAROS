{
 "cells": [
  {
   "cell_type": "code",
   "execution_count": 2,
   "id": "e781bbb8",
   "metadata": {},
   "outputs": [],
   "source": [
    "import pandas as pd\n",
    "import numpy as np"
   ]
  },
  {
   "cell_type": "code",
   "execution_count": 3,
   "id": "e23a93ce",
   "metadata": {},
   "outputs": [],
   "source": [
    "def gerador_serie_historica(valor_inicial, volatilidade, periodos, dia_inicial, frequencia = 'M'):\n",
    "    \n",
    "    vetor = [valor_inicial]\n",
    "    \n",
    "    for i in range(periodos - 1):\n",
    "        \n",
    "        preco = vetor[i] * ( 1 + np.random.normal(0, volatilidade))\n",
    "        \n",
    "        vetor.append(preco)\n",
    "        \n",
    "    serie = pd.Series(vetor, index = pd.date_range(dia_inicial, periods = periodos, freq = frequencia))\n",
    "    \n",
    "    return serie"
   ]
  },
  {
   "cell_type": "code",
   "execution_count": 4,
   "id": "1669a7f2",
   "metadata": {},
   "outputs": [
    {
     "data": {
      "text/plain": [
       "2022-02-28    20.000000\n",
       "2022-03-31    19.422372\n",
       "2022-04-30    21.227374\n",
       "2022-05-31    21.470714\n",
       "2022-06-30    22.805709\n",
       "Freq: M, dtype: float64"
      ]
     },
     "execution_count": 4,
     "metadata": {},
     "output_type": "execute_result"
    }
   ],
   "source": [
    "serie_euro = gerador_serie_historica(5, 0.01, 5, '2022-01-01')\n",
    "serie_cotacoes = gerador_serie_historica(20, 0.05, 5,'2022-02-01')\n",
    "serie_cotacoes"
   ]
  },
  {
   "cell_type": "code",
   "execution_count": 5,
   "id": "826add75",
   "metadata": {},
   "outputs": [
    {
     "data": {
      "text/plain": [
       "2022-01-31         NaN\n",
       "2022-02-28    3.976883\n",
       "2022-03-31    3.851423\n",
       "2022-04-30    4.243845\n",
       "2022-05-31    4.223314\n",
       "2022-06-30         NaN\n",
       "Freq: M, dtype: float64"
      ]
     },
     "execution_count": 5,
     "metadata": {},
     "output_type": "execute_result"
    }
   ],
   "source": [
    "# As operações são feitas através dos indices!\n",
    "\n",
    "serie_cotacoes_em_euro = serie_cotacoes / serie_euro\n",
    "serie_cotacoes_em_euro"
   ]
  },
  {
   "cell_type": "code",
   "execution_count": 6,
   "id": "335c2ed5",
   "metadata": {},
   "outputs": [
    {
     "data": {
      "text/html": [
       "<div>\n",
       "<style scoped>\n",
       "    .dataframe tbody tr th:only-of-type {\n",
       "        vertical-align: middle;\n",
       "    }\n",
       "\n",
       "    .dataframe tbody tr th {\n",
       "        vertical-align: top;\n",
       "    }\n",
       "\n",
       "    .dataframe thead th {\n",
       "        text-align: right;\n",
       "    }\n",
       "</style>\n",
       "<table border=\"1\" class=\"dataframe\">\n",
       "  <thead>\n",
       "    <tr style=\"text-align: right;\">\n",
       "      <th></th>\n",
       "      <th>cotacao</th>\n",
       "      <th>lucro_por_acao</th>\n",
       "    </tr>\n",
       "  </thead>\n",
       "  <tbody>\n",
       "    <tr>\n",
       "      <th>2022-01-31</th>\n",
       "      <td>20.000000</td>\n",
       "      <td>2.000000</td>\n",
       "    </tr>\n",
       "    <tr>\n",
       "      <th>2022-02-28</th>\n",
       "      <td>18.835926</td>\n",
       "      <td>2.360182</td>\n",
       "    </tr>\n",
       "    <tr>\n",
       "      <th>2022-03-31</th>\n",
       "      <td>19.119704</td>\n",
       "      <td>1.815307</td>\n",
       "    </tr>\n",
       "    <tr>\n",
       "      <th>2022-04-30</th>\n",
       "      <td>20.837849</td>\n",
       "      <td>0.947026</td>\n",
       "    </tr>\n",
       "    <tr>\n",
       "      <th>2022-05-31</th>\n",
       "      <td>22.365653</td>\n",
       "      <td>0.430016</td>\n",
       "    </tr>\n",
       "  </tbody>\n",
       "</table>\n",
       "</div>"
      ],
      "text/plain": [
       "              cotacao  lucro_por_acao\n",
       "2022-01-31  20.000000        2.000000\n",
       "2022-02-28  18.835926        2.360182\n",
       "2022-03-31  19.119704        1.815307\n",
       "2022-04-30  20.837849        0.947026\n",
       "2022-05-31  22.365653        0.430016"
      ]
     },
     "execution_count": 6,
     "metadata": {},
     "output_type": "execute_result"
    }
   ],
   "source": [
    "serie_lucro = gerador_serie_historica(2, 0.5, 5, '2022-01-01')\n",
    "serie_cotacoes = gerador_serie_historica(20, 0.05, 5, '2022-01-01')\n",
    "\n",
    "df = pd.DataFrame({\n",
    "    'cotacao': serie_cotacoes,\n",
    "    'lucro_por_acao': serie_lucro\n",
    "})\n",
    "\n",
    "df"
   ]
  },
  {
   "cell_type": "code",
   "execution_count": 7,
   "id": "326a975c",
   "metadata": {},
   "outputs": [
    {
     "data": {
      "text/html": [
       "<div>\n",
       "<style scoped>\n",
       "    .dataframe tbody tr th:only-of-type {\n",
       "        vertical-align: middle;\n",
       "    }\n",
       "\n",
       "    .dataframe tbody tr th {\n",
       "        vertical-align: top;\n",
       "    }\n",
       "\n",
       "    .dataframe thead th {\n",
       "        text-align: right;\n",
       "    }\n",
       "</style>\n",
       "<table border=\"1\" class=\"dataframe\">\n",
       "  <thead>\n",
       "    <tr style=\"text-align: right;\">\n",
       "      <th></th>\n",
       "      <th>cotacao</th>\n",
       "      <th>lucro_por_acao</th>\n",
       "      <th>P/L</th>\n",
       "    </tr>\n",
       "  </thead>\n",
       "  <tbody>\n",
       "    <tr>\n",
       "      <th>2022-01-31</th>\n",
       "      <td>20.000000</td>\n",
       "      <td>2.000000</td>\n",
       "      <td>10.000000</td>\n",
       "    </tr>\n",
       "    <tr>\n",
       "      <th>2022-02-28</th>\n",
       "      <td>18.835926</td>\n",
       "      <td>2.360182</td>\n",
       "      <td>7.980708</td>\n",
       "    </tr>\n",
       "    <tr>\n",
       "      <th>2022-03-31</th>\n",
       "      <td>19.119704</td>\n",
       "      <td>1.815307</td>\n",
       "      <td>10.532493</td>\n",
       "    </tr>\n",
       "    <tr>\n",
       "      <th>2022-04-30</th>\n",
       "      <td>20.837849</td>\n",
       "      <td>0.947026</td>\n",
       "      <td>22.003458</td>\n",
       "    </tr>\n",
       "    <tr>\n",
       "      <th>2022-05-31</th>\n",
       "      <td>22.365653</td>\n",
       "      <td>0.430016</td>\n",
       "      <td>52.011205</td>\n",
       "    </tr>\n",
       "  </tbody>\n",
       "</table>\n",
       "</div>"
      ],
      "text/plain": [
       "              cotacao  lucro_por_acao        P/L\n",
       "2022-01-31  20.000000        2.000000  10.000000\n",
       "2022-02-28  18.835926        2.360182   7.980708\n",
       "2022-03-31  19.119704        1.815307  10.532493\n",
       "2022-04-30  20.837849        0.947026  22.003458\n",
       "2022-05-31  22.365653        0.430016  52.011205"
      ]
     },
     "execution_count": 7,
     "metadata": {},
     "output_type": "execute_result"
    }
   ],
   "source": [
    "# Criando coluna P/L\n",
    "\n",
    "df['P/L'] = df['cotacao']/df['lucro_por_acao']\n",
    "\n",
    "df"
   ]
  },
  {
   "cell_type": "code",
   "execution_count": 8,
   "id": "5f2a0f44",
   "metadata": {},
   "outputs": [
    {
     "name": "stdout",
     "output_type": "stream",
     "text": [
      "2022-01-31    22.000000\n",
      "2022-02-28    21.196108\n",
      "2022-03-31    20.935010\n",
      "2022-04-30    21.784875\n",
      "2022-05-31    22.795669\n",
      "Freq: M, dtype: float64\n",
      "2022-01-31    18.000000\n",
      "2022-02-28    16.475743\n",
      "2022-03-31    17.304397\n",
      "2022-04-30    19.890823\n",
      "2022-05-31    21.935637\n",
      "Freq: M, dtype: float64\n",
      "2022-01-31     400.000000\n",
      "2022-02-28    1021.413688\n",
      "2022-03-31     211.973264\n",
      "2022-04-30      17.741410\n",
      "2022-05-31       3.804887\n",
      "Freq: M, dtype: float64\n"
     ]
    }
   ],
   "source": [
    "# pode fazer qualquer operação\n",
    "\n",
    "print(df['cotacao'] + df['lucro_por_acao'])\n",
    "\n",
    "print(df['cotacao'] - df['lucro_por_acao'])\n",
    "\n",
    "print(df['cotacao'] ** df['lucro_por_acao'])"
   ]
  },
  {
   "cell_type": "code",
   "execution_count": 9,
   "id": "bc2ed730",
   "metadata": {},
   "outputs": [
    {
     "name": "stdout",
     "output_type": "stream",
     "text": [
      "2022-03-31     20000.000000\n",
      "2022-06-30    -39299.289321\n",
      "2022-09-30     85059.670725\n",
      "2022-12-31    149860.603914\n",
      "Freq: Q-DEC, dtype: float64\n"
     ]
    },
    {
     "data": {
      "text/plain": [
       "215620.98531845215"
      ]
     },
     "execution_count": 9,
     "metadata": {},
     "output_type": "execute_result"
    }
   ],
   "source": [
    "# Operações dentro de uma mesma coluna\n",
    "\n",
    "#somar dados de uma coluna\n",
    "\n",
    "serie_lucro_trimestral = gerador_serie_historica(20000,2,4,'2022-01-01', frequencia = 'Q')\n",
    "\n",
    "print(serie_lucro_trimestral)\n",
    "\n",
    "lucro_anual = serie_lucro_trimestral.sum()\n",
    "\n",
    "lucro_anual"
   ]
  },
  {
   "cell_type": "code",
   "execution_count": 10,
   "id": "5d2dc1e2",
   "metadata": {},
   "outputs": [
    {
     "name": "stdout",
     "output_type": "stream",
     "text": [
      "2022-03-31    20000.000000\n",
      "2022-06-30     7720.279196\n",
      "2022-09-30   -14277.531556\n",
      "2022-12-31    13766.199338\n",
      "Freq: Q-DEC, dtype: float64\n"
     ]
    },
    {
     "data": {
      "text/plain": [
       "2022-03-31    20000.000000\n",
       "2022-06-30    27720.279196\n",
       "2022-09-30    13442.747640\n",
       "2022-12-31    27208.946978\n",
       "Freq: Q-DEC, dtype: float64"
      ]
     },
     "execution_count": 10,
     "metadata": {},
     "output_type": "execute_result"
    }
   ],
   "source": [
    "# Acumular dados de uma coluna\n",
    "\n",
    "serie_lucro_trimestral = gerador_serie_historica(20000, 2, 4, '2022-01-01', frequencia='Q')\n",
    "\n",
    "print(serie_lucro_trimestral)\n",
    "\n",
    "crescimento_lucros = serie_lucro_trimestral.cumsum()\n",
    "\n",
    "crescimento_lucros"
   ]
  },
  {
   "cell_type": "code",
   "execution_count": 11,
   "id": "be3c2fb8",
   "metadata": {},
   "outputs": [
    {
     "data": {
      "text/plain": [
       "73768.89812116273"
      ]
     },
     "execution_count": 11,
     "metadata": {},
     "output_type": "execute_result"
    }
   ],
   "source": [
    "#maior e menor dado de lucro no trimestre\n",
    "\n",
    "serie_lucro_trimestral = gerador_serie_historica(20000, 2, 4, '2022-01-01', frequencia='Q')\n",
    "\n",
    "lucro_max = serie_lucro_trimestral.max()\n",
    "\n",
    "lucro_min = serie_lucro_trimestral.min()\n",
    "\n",
    "lucro_max"
   ]
  },
  {
   "cell_type": "markdown",
   "id": "febfca68",
   "metadata": {},
   "source": [
    "# Exercícios\n",
    "\n",
    "No dataframe base trabalhado nas aulas anteriores:\n",
    "\n",
    "- Exercício 50: Crie uma nova coluna chamada 'lucro_por_acao' e calcule o lucro por ação baseado nas informações de PL e preço. Obs: LPA = P/PL\n",
    "- Exercício 51: Assuma a cotação do dólar como 5.25 e crie a coluna de cotações dolarizadas na tabela.\n",
    "- Exercício 52: Encontre qual o volume total negociado por todas as ações.\n",
    "- Exercício 53: Selecione as ações com maior e menor Lucro por ação do dataframe.\n"
   ]
  },
  {
   "cell_type": "code",
   "execution_count": 16,
   "id": "b6f83365",
   "metadata": {},
   "outputs": [
    {
     "data": {
      "text/html": [
       "<div>\n",
       "<style scoped>\n",
       "    .dataframe tbody tr th:only-of-type {\n",
       "        vertical-align: middle;\n",
       "    }\n",
       "\n",
       "    .dataframe tbody tr th {\n",
       "        vertical-align: top;\n",
       "    }\n",
       "\n",
       "    .dataframe thead th {\n",
       "        text-align: right;\n",
       "    }\n",
       "</style>\n",
       "<table border=\"1\" class=\"dataframe\">\n",
       "  <thead>\n",
       "    <tr style=\"text-align: right;\">\n",
       "      <th></th>\n",
       "      <th>nomes</th>\n",
       "      <th>precos</th>\n",
       "      <th>preco_sobre_lucro</th>\n",
       "      <th>volume</th>\n",
       "    </tr>\n",
       "    <tr>\n",
       "      <th>tickers</th>\n",
       "      <th></th>\n",
       "      <th></th>\n",
       "      <th></th>\n",
       "      <th></th>\n",
       "    </tr>\n",
       "  </thead>\n",
       "  <tbody>\n",
       "    <tr>\n",
       "      <th>WEGE3</th>\n",
       "      <td>Weg</td>\n",
       "      <td>20</td>\n",
       "      <td>25</td>\n",
       "      <td>5000</td>\n",
       "    </tr>\n",
       "    <tr>\n",
       "      <th>PETR3</th>\n",
       "      <td>Petrobras</td>\n",
       "      <td>30</td>\n",
       "      <td>6</td>\n",
       "      <td>1000</td>\n",
       "    </tr>\n",
       "    <tr>\n",
       "      <th>VALE3</th>\n",
       "      <td>Vale</td>\n",
       "      <td>40</td>\n",
       "      <td>12</td>\n",
       "      <td>4000</td>\n",
       "    </tr>\n",
       "    <tr>\n",
       "      <th>PETR4</th>\n",
       "      <td>Petrobras</td>\n",
       "      <td>12</td>\n",
       "      <td>7</td>\n",
       "      <td>7000</td>\n",
       "    </tr>\n",
       "    <tr>\n",
       "      <th>LREN3</th>\n",
       "      <td>Lojas Renner</td>\n",
       "      <td>35</td>\n",
       "      <td>25</td>\n",
       "      <td>1200</td>\n",
       "    </tr>\n",
       "  </tbody>\n",
       "</table>\n",
       "</div>"
      ],
      "text/plain": [
       "                nomes  precos  preco_sobre_lucro  volume\n",
       "tickers                                                 \n",
       "WEGE3             Weg      20                 25    5000\n",
       "PETR3       Petrobras      30                  6    1000\n",
       "VALE3            Vale      40                 12    4000\n",
       "PETR4       Petrobras      12                  7    7000\n",
       "LREN3    Lojas Renner      35                 25    1200"
      ]
     },
     "execution_count": 16,
     "metadata": {},
     "output_type": "execute_result"
    }
   ],
   "source": [
    "#df_base\n",
    "dados_cotacoes = {\n",
    "    'tickers': [\"WEGE3\", \"PETR3\", \"VALE3\", \"PETR4\",\"LREN3\"],\n",
    "    'cotacoes': [20, 30, 40, 12, 35],\n",
    "    'nomes': [\"Weg\", \"Petrobras\", \"Vale\", \"Petrobras\", \"Lojas Renner\"],\n",
    "    'preco_sobre_lucro': [25,6,12,7,25],\n",
    "    'volume': [5000, 1000, 4000,7000,1200]\n",
    "}\n",
    "\n",
    "df = pd.DataFrame(dados_cotacoes, index = [0,1,2,3,4],\n",
    "                 columns = ['nomes','tickers','cotacoes','preco_sobre_lucro','volume'])\n",
    "\n",
    "df = df.set_index('tickers')\n",
    "df.columns = ['nomes', 'precos', 'preco_sobre_lucro', 'volume']\n",
    "df\n"
   ]
  },
  {
   "cell_type": "code",
   "execution_count": 17,
   "id": "7c277984",
   "metadata": {},
   "outputs": [
    {
     "data": {
      "text/html": [
       "<div>\n",
       "<style scoped>\n",
       "    .dataframe tbody tr th:only-of-type {\n",
       "        vertical-align: middle;\n",
       "    }\n",
       "\n",
       "    .dataframe tbody tr th {\n",
       "        vertical-align: top;\n",
       "    }\n",
       "\n",
       "    .dataframe thead th {\n",
       "        text-align: right;\n",
       "    }\n",
       "</style>\n",
       "<table border=\"1\" class=\"dataframe\">\n",
       "  <thead>\n",
       "    <tr style=\"text-align: right;\">\n",
       "      <th></th>\n",
       "      <th>nomes</th>\n",
       "      <th>precos</th>\n",
       "      <th>preco_sobre_lucro</th>\n",
       "      <th>volume</th>\n",
       "      <th>lucro_por_acao</th>\n",
       "    </tr>\n",
       "    <tr>\n",
       "      <th>tickers</th>\n",
       "      <th></th>\n",
       "      <th></th>\n",
       "      <th></th>\n",
       "      <th></th>\n",
       "      <th></th>\n",
       "    </tr>\n",
       "  </thead>\n",
       "  <tbody>\n",
       "    <tr>\n",
       "      <th>WEGE3</th>\n",
       "      <td>Weg</td>\n",
       "      <td>20</td>\n",
       "      <td>25</td>\n",
       "      <td>5000</td>\n",
       "      <td>0.800000</td>\n",
       "    </tr>\n",
       "    <tr>\n",
       "      <th>PETR3</th>\n",
       "      <td>Petrobras</td>\n",
       "      <td>30</td>\n",
       "      <td>6</td>\n",
       "      <td>1000</td>\n",
       "      <td>5.000000</td>\n",
       "    </tr>\n",
       "    <tr>\n",
       "      <th>VALE3</th>\n",
       "      <td>Vale</td>\n",
       "      <td>40</td>\n",
       "      <td>12</td>\n",
       "      <td>4000</td>\n",
       "      <td>3.333333</td>\n",
       "    </tr>\n",
       "    <tr>\n",
       "      <th>PETR4</th>\n",
       "      <td>Petrobras</td>\n",
       "      <td>12</td>\n",
       "      <td>7</td>\n",
       "      <td>7000</td>\n",
       "      <td>1.714286</td>\n",
       "    </tr>\n",
       "    <tr>\n",
       "      <th>LREN3</th>\n",
       "      <td>Lojas Renner</td>\n",
       "      <td>35</td>\n",
       "      <td>25</td>\n",
       "      <td>1200</td>\n",
       "      <td>1.400000</td>\n",
       "    </tr>\n",
       "  </tbody>\n",
       "</table>\n",
       "</div>"
      ],
      "text/plain": [
       "                nomes  precos  preco_sobre_lucro  volume  lucro_por_acao\n",
       "tickers                                                                 \n",
       "WEGE3             Weg      20                 25    5000        0.800000\n",
       "PETR3       Petrobras      30                  6    1000        5.000000\n",
       "VALE3            Vale      40                 12    4000        3.333333\n",
       "PETR4       Petrobras      12                  7    7000        1.714286\n",
       "LREN3    Lojas Renner      35                 25    1200        1.400000"
      ]
     },
     "execution_count": 17,
     "metadata": {},
     "output_type": "execute_result"
    }
   ],
   "source": [
    "# Exercício 50\n",
    "\n",
    "df['lucro_por_acao'] = df['precos']/df['preco_sobre_lucro']\n",
    "df"
   ]
  },
  {
   "cell_type": "code",
   "execution_count": 18,
   "id": "7eae0952",
   "metadata": {},
   "outputs": [
    {
     "data": {
      "text/html": [
       "<div>\n",
       "<style scoped>\n",
       "    .dataframe tbody tr th:only-of-type {\n",
       "        vertical-align: middle;\n",
       "    }\n",
       "\n",
       "    .dataframe tbody tr th {\n",
       "        vertical-align: top;\n",
       "    }\n",
       "\n",
       "    .dataframe thead th {\n",
       "        text-align: right;\n",
       "    }\n",
       "</style>\n",
       "<table border=\"1\" class=\"dataframe\">\n",
       "  <thead>\n",
       "    <tr style=\"text-align: right;\">\n",
       "      <th></th>\n",
       "      <th>nomes</th>\n",
       "      <th>precos</th>\n",
       "      <th>preco_sobre_lucro</th>\n",
       "      <th>volume</th>\n",
       "      <th>lucro_por_acao</th>\n",
       "      <th>cotacao_dolarizada</th>\n",
       "    </tr>\n",
       "    <tr>\n",
       "      <th>tickers</th>\n",
       "      <th></th>\n",
       "      <th></th>\n",
       "      <th></th>\n",
       "      <th></th>\n",
       "      <th></th>\n",
       "      <th></th>\n",
       "    </tr>\n",
       "  </thead>\n",
       "  <tbody>\n",
       "    <tr>\n",
       "      <th>WEGE3</th>\n",
       "      <td>Weg</td>\n",
       "      <td>20</td>\n",
       "      <td>25</td>\n",
       "      <td>5000</td>\n",
       "      <td>0.800000</td>\n",
       "      <td>3.809524</td>\n",
       "    </tr>\n",
       "    <tr>\n",
       "      <th>PETR3</th>\n",
       "      <td>Petrobras</td>\n",
       "      <td>30</td>\n",
       "      <td>6</td>\n",
       "      <td>1000</td>\n",
       "      <td>5.000000</td>\n",
       "      <td>5.714286</td>\n",
       "    </tr>\n",
       "    <tr>\n",
       "      <th>VALE3</th>\n",
       "      <td>Vale</td>\n",
       "      <td>40</td>\n",
       "      <td>12</td>\n",
       "      <td>4000</td>\n",
       "      <td>3.333333</td>\n",
       "      <td>7.619048</td>\n",
       "    </tr>\n",
       "    <tr>\n",
       "      <th>PETR4</th>\n",
       "      <td>Petrobras</td>\n",
       "      <td>12</td>\n",
       "      <td>7</td>\n",
       "      <td>7000</td>\n",
       "      <td>1.714286</td>\n",
       "      <td>2.285714</td>\n",
       "    </tr>\n",
       "    <tr>\n",
       "      <th>LREN3</th>\n",
       "      <td>Lojas Renner</td>\n",
       "      <td>35</td>\n",
       "      <td>25</td>\n",
       "      <td>1200</td>\n",
       "      <td>1.400000</td>\n",
       "      <td>6.666667</td>\n",
       "    </tr>\n",
       "  </tbody>\n",
       "</table>\n",
       "</div>"
      ],
      "text/plain": [
       "                nomes  precos  preco_sobre_lucro  volume  lucro_por_acao  \\\n",
       "tickers                                                                    \n",
       "WEGE3             Weg      20                 25    5000        0.800000   \n",
       "PETR3       Petrobras      30                  6    1000        5.000000   \n",
       "VALE3            Vale      40                 12    4000        3.333333   \n",
       "PETR4       Petrobras      12                  7    7000        1.714286   \n",
       "LREN3    Lojas Renner      35                 25    1200        1.400000   \n",
       "\n",
       "         cotacao_dolarizada  \n",
       "tickers                      \n",
       "WEGE3              3.809524  \n",
       "PETR3              5.714286  \n",
       "VALE3              7.619048  \n",
       "PETR4              2.285714  \n",
       "LREN3              6.666667  "
      ]
     },
     "execution_count": 18,
     "metadata": {},
     "output_type": "execute_result"
    }
   ],
   "source": [
    "# Exercício 51\n",
    "cotacao_dolar = 5.25\n",
    "df['cotacao_dolarizada'] = df['precos'] / cotacao_dolar\n",
    "df"
   ]
  },
  {
   "cell_type": "code",
   "execution_count": 20,
   "id": "8cb80520",
   "metadata": {},
   "outputs": [
    {
     "data": {
      "text/plain": [
       "18200"
      ]
     },
     "execution_count": 20,
     "metadata": {},
     "output_type": "execute_result"
    }
   ],
   "source": [
    "# Exercício 52\n",
    "volume_total = df['volume'].sum()\n",
    "volume_total"
   ]
  },
  {
   "cell_type": "code",
   "execution_count": null,
   "id": "5c0e7436",
   "metadata": {},
   "outputs": [],
   "source": [
    "# Exercício 53\n",
    "maior_cotacao = df['lucro_por_acao'].max()\n",
    "acao_maior_lucro_por"
   ]
  },
  {
   "cell_type": "code",
   "execution_count": 43,
   "id": "20ab8b17",
   "metadata": {},
   "outputs": [
    {
     "data": {
      "text/html": [
       "<div>\n",
       "<style scoped>\n",
       "    .dataframe tbody tr th:only-of-type {\n",
       "        vertical-align: middle;\n",
       "    }\n",
       "\n",
       "    .dataframe tbody tr th {\n",
       "        vertical-align: top;\n",
       "    }\n",
       "\n",
       "    .dataframe thead th {\n",
       "        text-align: right;\n",
       "    }\n",
       "</style>\n",
       "<table border=\"1\" class=\"dataframe\">\n",
       "  <thead>\n",
       "    <tr style=\"text-align: right;\">\n",
       "      <th></th>\n",
       "      <th>nomes</th>\n",
       "      <th>precos</th>\n",
       "      <th>preco_sobre_lucro</th>\n",
       "      <th>volume</th>\n",
       "      <th>lucro_por_acao</th>\n",
       "      <th>cotacao_dolarizada</th>\n",
       "    </tr>\n",
       "    <tr>\n",
       "      <th>tickers</th>\n",
       "      <th></th>\n",
       "      <th></th>\n",
       "      <th></th>\n",
       "      <th></th>\n",
       "      <th></th>\n",
       "      <th></th>\n",
       "    </tr>\n",
       "  </thead>\n",
       "  <tbody>\n",
       "    <tr>\n",
       "      <th>PETR3</th>\n",
       "      <td>Petrobras</td>\n",
       "      <td>30</td>\n",
       "      <td>6</td>\n",
       "      <td>1000</td>\n",
       "      <td>5.0</td>\n",
       "      <td>5.714286</td>\n",
       "    </tr>\n",
       "  </tbody>\n",
       "</table>\n",
       "</div>"
      ],
      "text/plain": [
       "             nomes  precos  preco_sobre_lucro  volume  lucro_por_acao  \\\n",
       "tickers                                                                 \n",
       "PETR3    Petrobras      30                  6    1000             5.0   \n",
       "\n",
       "         cotacao_dolarizada  \n",
       "tickers                      \n",
       "PETR3              5.714286  "
      ]
     },
     "metadata": {},
     "output_type": "display_data"
    },
    {
     "data": {
      "text/html": [
       "<div>\n",
       "<style scoped>\n",
       "    .dataframe tbody tr th:only-of-type {\n",
       "        vertical-align: middle;\n",
       "    }\n",
       "\n",
       "    .dataframe tbody tr th {\n",
       "        vertical-align: top;\n",
       "    }\n",
       "\n",
       "    .dataframe thead th {\n",
       "        text-align: right;\n",
       "    }\n",
       "</style>\n",
       "<table border=\"1\" class=\"dataframe\">\n",
       "  <thead>\n",
       "    <tr style=\"text-align: right;\">\n",
       "      <th></th>\n",
       "      <th>nomes</th>\n",
       "      <th>precos</th>\n",
       "      <th>preco_sobre_lucro</th>\n",
       "      <th>volume</th>\n",
       "      <th>lucro_por_acao</th>\n",
       "      <th>cotacao_dolarizada</th>\n",
       "    </tr>\n",
       "    <tr>\n",
       "      <th>tickers</th>\n",
       "      <th></th>\n",
       "      <th></th>\n",
       "      <th></th>\n",
       "      <th></th>\n",
       "      <th></th>\n",
       "      <th></th>\n",
       "    </tr>\n",
       "  </thead>\n",
       "  <tbody>\n",
       "    <tr>\n",
       "      <th>WEGE3</th>\n",
       "      <td>Weg</td>\n",
       "      <td>20</td>\n",
       "      <td>25</td>\n",
       "      <td>5000</td>\n",
       "      <td>0.8</td>\n",
       "      <td>3.809524</td>\n",
       "    </tr>\n",
       "  </tbody>\n",
       "</table>\n",
       "</div>"
      ],
      "text/plain": [
       "        nomes  precos  preco_sobre_lucro  volume  lucro_por_acao  \\\n",
       "tickers                                                            \n",
       "WEGE3     Weg      20                 25    5000             0.8   \n",
       "\n",
       "         cotacao_dolarizada  \n",
       "tickers                      \n",
       "WEGE3              3.809524  "
      ]
     },
     "metadata": {},
     "output_type": "display_data"
    }
   ],
   "source": [
    "# Exercício 53\n",
    "empresa_maior_lucro_por_acao = df[df['lucro_por_acao'] == df['lucro_por_acao'].max()]\n",
    "display(empresa_maior_lucro_por_acao)\n",
    "\n",
    "empresa_menor_lucro_por_acao = df[df['lucro_por_acao'] == df['lucro_por_acao'].min() ]\n",
    "display(empresa_menor_lucro_por_acao)"
   ]
  }
 ],
 "metadata": {
  "kernelspec": {
   "display_name": "Python 3 (ipykernel)",
   "language": "python",
   "name": "python3"
  },
  "language_info": {
   "codemirror_mode": {
    "name": "ipython",
    "version": 3
   },
   "file_extension": ".py",
   "mimetype": "text/x-python",
   "name": "python",
   "nbconvert_exporter": "python",
   "pygments_lexer": "ipython3",
   "version": "3.9.13"
  }
 },
 "nbformat": 4,
 "nbformat_minor": 5
}
